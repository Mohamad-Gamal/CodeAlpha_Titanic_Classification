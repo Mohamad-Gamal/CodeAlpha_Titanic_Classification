{
 "cells": [
  {
   "cell_type": "code",
   "execution_count": 1,
   "id": "fa4cb14f",
   "metadata": {
    "execution": {
     "iopub.execute_input": "2022-08-15T18:48:17.577014Z",
     "iopub.status.busy": "2022-08-15T18:48:17.576586Z",
     "iopub.status.idle": "2022-08-15T18:48:19.448321Z",
     "shell.execute_reply": "2022-08-15T18:48:19.446822Z"
    },
    "papermill": {
     "duration": 1.893618,
     "end_time": "2022-08-15T18:48:19.451735",
     "exception": false,
     "start_time": "2022-08-15T18:48:17.558117",
     "status": "completed"
    },
    "tags": []
   },
   "outputs": [],
   "source": [
    "import numpy as np # linear algebra\n",
    "import pandas as pd # data processing\n",
    "import matplotlib.pyplot as plt # visualizing data\n",
    "import seaborn as sns\n",
    "import missingno as msno\n",
    "import os\n",
    "from sklearn.model_selection import train_test_split, cross_val_score, cross_val_predict\n",
    "from sklearn.impute import SimpleImputer\n",
    "from sklearn.preprocessing import StandardScaler, LabelEncoder, OneHotEncoder\n",
    "from sklearn.pipeline import Pipeline,FeatureUnion\n",
    "from sklearn.linear_model import LogisticRegression, SGDClassifier\n",
    "from sklearn.ensemble import RandomForestClassifier\n",
    "import xgboost as xgb\n",
    "from sklearn.metrics import accuracy_score, confusion_matrix"
   ]
  },
  {
   "cell_type": "code",
   "execution_count": 2,
   "id": "0d74127b",
   "metadata": {
    "execution": {
     "iopub.execute_input": "2022-08-15T18:48:19.485564Z",
     "iopub.status.busy": "2022-08-15T18:48:19.484739Z",
     "iopub.status.idle": "2022-08-15T18:48:19.525116Z",
     "shell.execute_reply": "2022-08-15T18:48:19.524136Z"
    },
    "papermill": {
     "duration": 0.059206,
     "end_time": "2022-08-15T18:48:19.527689",
     "exception": false,
     "start_time": "2022-08-15T18:48:19.468483",
     "status": "completed"
    },
    "tags": []
   },
   "outputs": [],
   "source": [
    "df_titanic = pd.read_csv('train.csv')\n",
    "df_titanic_test = pd.read_csv('tested.csv')"
   ]
  },
  {
   "cell_type": "code",
   "execution_count": 3,
   "id": "04d5d84e",
   "metadata": {
    "execution": {
     "iopub.execute_input": "2022-08-15T18:48:19.559580Z",
     "iopub.status.busy": "2022-08-15T18:48:19.558817Z",
     "iopub.status.idle": "2022-08-15T18:48:19.594953Z",
     "shell.execute_reply": "2022-08-15T18:48:19.593753Z"
    },
    "papermill": {
     "duration": 0.054847,
     "end_time": "2022-08-15T18:48:19.597467",
     "exception": false,
     "start_time": "2022-08-15T18:48:19.542620",
     "status": "completed"
    },
    "tags": []
   },
   "outputs": [
    {
     "data": {
      "text/html": [
       "<div>\n",
       "<style scoped>\n",
       "    .dataframe tbody tr th:only-of-type {\n",
       "        vertical-align: middle;\n",
       "    }\n",
       "\n",
       "    .dataframe tbody tr th {\n",
       "        vertical-align: top;\n",
       "    }\n",
       "\n",
       "    .dataframe thead th {\n",
       "        text-align: right;\n",
       "    }\n",
       "</style>\n",
       "<table border=\"1\" class=\"dataframe\">\n",
       "  <thead>\n",
       "    <tr style=\"text-align: right;\">\n",
       "      <th></th>\n",
       "      <th>PassengerId</th>\n",
       "      <th>Survived</th>\n",
       "      <th>Pclass</th>\n",
       "      <th>Name</th>\n",
       "      <th>Sex</th>\n",
       "      <th>Age</th>\n",
       "      <th>SibSp</th>\n",
       "      <th>Parch</th>\n",
       "      <th>Ticket</th>\n",
       "      <th>Fare</th>\n",
       "      <th>Cabin</th>\n",
       "      <th>Embarked</th>\n",
       "    </tr>\n",
       "  </thead>\n",
       "  <tbody>\n",
       "    <tr>\n",
       "      <th>0</th>\n",
       "      <td>1</td>\n",
       "      <td>0</td>\n",
       "      <td>3</td>\n",
       "      <td>Braund, Mr. Owen Harris</td>\n",
       "      <td>male</td>\n",
       "      <td>22.0</td>\n",
       "      <td>1</td>\n",
       "      <td>0</td>\n",
       "      <td>A/5 21171</td>\n",
       "      <td>7.2500</td>\n",
       "      <td>NaN</td>\n",
       "      <td>S</td>\n",
       "    </tr>\n",
       "    <tr>\n",
       "      <th>1</th>\n",
       "      <td>2</td>\n",
       "      <td>1</td>\n",
       "      <td>1</td>\n",
       "      <td>Cumings, Mrs. John Bradley (Florence Briggs Th...</td>\n",
       "      <td>female</td>\n",
       "      <td>38.0</td>\n",
       "      <td>1</td>\n",
       "      <td>0</td>\n",
       "      <td>PC 17599</td>\n",
       "      <td>71.2833</td>\n",
       "      <td>C85</td>\n",
       "      <td>C</td>\n",
       "    </tr>\n",
       "    <tr>\n",
       "      <th>2</th>\n",
       "      <td>3</td>\n",
       "      <td>1</td>\n",
       "      <td>3</td>\n",
       "      <td>Heikkinen, Miss. Laina</td>\n",
       "      <td>female</td>\n",
       "      <td>26.0</td>\n",
       "      <td>0</td>\n",
       "      <td>0</td>\n",
       "      <td>STON/O2. 3101282</td>\n",
       "      <td>7.9250</td>\n",
       "      <td>NaN</td>\n",
       "      <td>S</td>\n",
       "    </tr>\n",
       "    <tr>\n",
       "      <th>3</th>\n",
       "      <td>4</td>\n",
       "      <td>1</td>\n",
       "      <td>1</td>\n",
       "      <td>Futrelle, Mrs. Jacques Heath (Lily May Peel)</td>\n",
       "      <td>female</td>\n",
       "      <td>35.0</td>\n",
       "      <td>1</td>\n",
       "      <td>0</td>\n",
       "      <td>113803</td>\n",
       "      <td>53.1000</td>\n",
       "      <td>C123</td>\n",
       "      <td>S</td>\n",
       "    </tr>\n",
       "    <tr>\n",
       "      <th>4</th>\n",
       "      <td>5</td>\n",
       "      <td>0</td>\n",
       "      <td>3</td>\n",
       "      <td>Allen, Mr. William Henry</td>\n",
       "      <td>male</td>\n",
       "      <td>35.0</td>\n",
       "      <td>0</td>\n",
       "      <td>0</td>\n",
       "      <td>373450</td>\n",
       "      <td>8.0500</td>\n",
       "      <td>NaN</td>\n",
       "      <td>S</td>\n",
       "    </tr>\n",
       "    <tr>\n",
       "      <th>...</th>\n",
       "      <td>...</td>\n",
       "      <td>...</td>\n",
       "      <td>...</td>\n",
       "      <td>...</td>\n",
       "      <td>...</td>\n",
       "      <td>...</td>\n",
       "      <td>...</td>\n",
       "      <td>...</td>\n",
       "      <td>...</td>\n",
       "      <td>...</td>\n",
       "      <td>...</td>\n",
       "      <td>...</td>\n",
       "    </tr>\n",
       "    <tr>\n",
       "      <th>886</th>\n",
       "      <td>887</td>\n",
       "      <td>0</td>\n",
       "      <td>2</td>\n",
       "      <td>Montvila, Rev. Juozas</td>\n",
       "      <td>male</td>\n",
       "      <td>27.0</td>\n",
       "      <td>0</td>\n",
       "      <td>0</td>\n",
       "      <td>211536</td>\n",
       "      <td>13.0000</td>\n",
       "      <td>NaN</td>\n",
       "      <td>S</td>\n",
       "    </tr>\n",
       "    <tr>\n",
       "      <th>887</th>\n",
       "      <td>888</td>\n",
       "      <td>1</td>\n",
       "      <td>1</td>\n",
       "      <td>Graham, Miss. Margaret Edith</td>\n",
       "      <td>female</td>\n",
       "      <td>19.0</td>\n",
       "      <td>0</td>\n",
       "      <td>0</td>\n",
       "      <td>112053</td>\n",
       "      <td>30.0000</td>\n",
       "      <td>B42</td>\n",
       "      <td>S</td>\n",
       "    </tr>\n",
       "    <tr>\n",
       "      <th>888</th>\n",
       "      <td>889</td>\n",
       "      <td>0</td>\n",
       "      <td>3</td>\n",
       "      <td>Johnston, Miss. Catherine Helen \"Carrie\"</td>\n",
       "      <td>female</td>\n",
       "      <td>NaN</td>\n",
       "      <td>1</td>\n",
       "      <td>2</td>\n",
       "      <td>W./C. 6607</td>\n",
       "      <td>23.4500</td>\n",
       "      <td>NaN</td>\n",
       "      <td>S</td>\n",
       "    </tr>\n",
       "    <tr>\n",
       "      <th>889</th>\n",
       "      <td>890</td>\n",
       "      <td>1</td>\n",
       "      <td>1</td>\n",
       "      <td>Behr, Mr. Karl Howell</td>\n",
       "      <td>male</td>\n",
       "      <td>26.0</td>\n",
       "      <td>0</td>\n",
       "      <td>0</td>\n",
       "      <td>111369</td>\n",
       "      <td>30.0000</td>\n",
       "      <td>C148</td>\n",
       "      <td>C</td>\n",
       "    </tr>\n",
       "    <tr>\n",
       "      <th>890</th>\n",
       "      <td>891</td>\n",
       "      <td>0</td>\n",
       "      <td>3</td>\n",
       "      <td>Dooley, Mr. Patrick</td>\n",
       "      <td>male</td>\n",
       "      <td>32.0</td>\n",
       "      <td>0</td>\n",
       "      <td>0</td>\n",
       "      <td>370376</td>\n",
       "      <td>7.7500</td>\n",
       "      <td>NaN</td>\n",
       "      <td>Q</td>\n",
       "    </tr>\n",
       "  </tbody>\n",
       "</table>\n",
       "<p>891 rows × 12 columns</p>\n",
       "</div>"
      ],
      "text/plain": [
       "     PassengerId  Survived  Pclass  \\\n",
       "0              1         0       3   \n",
       "1              2         1       1   \n",
       "2              3         1       3   \n",
       "3              4         1       1   \n",
       "4              5         0       3   \n",
       "..           ...       ...     ...   \n",
       "886          887         0       2   \n",
       "887          888         1       1   \n",
       "888          889         0       3   \n",
       "889          890         1       1   \n",
       "890          891         0       3   \n",
       "\n",
       "                                                  Name     Sex   Age  SibSp  \\\n",
       "0                              Braund, Mr. Owen Harris    male  22.0      1   \n",
       "1    Cumings, Mrs. John Bradley (Florence Briggs Th...  female  38.0      1   \n",
       "2                               Heikkinen, Miss. Laina  female  26.0      0   \n",
       "3         Futrelle, Mrs. Jacques Heath (Lily May Peel)  female  35.0      1   \n",
       "4                             Allen, Mr. William Henry    male  35.0      0   \n",
       "..                                                 ...     ...   ...    ...   \n",
       "886                              Montvila, Rev. Juozas    male  27.0      0   \n",
       "887                       Graham, Miss. Margaret Edith  female  19.0      0   \n",
       "888           Johnston, Miss. Catherine Helen \"Carrie\"  female   NaN      1   \n",
       "889                              Behr, Mr. Karl Howell    male  26.0      0   \n",
       "890                                Dooley, Mr. Patrick    male  32.0      0   \n",
       "\n",
       "     Parch            Ticket     Fare Cabin Embarked  \n",
       "0        0         A/5 21171   7.2500   NaN        S  \n",
       "1        0          PC 17599  71.2833   C85        C  \n",
       "2        0  STON/O2. 3101282   7.9250   NaN        S  \n",
       "3        0            113803  53.1000  C123        S  \n",
       "4        0            373450   8.0500   NaN        S  \n",
       "..     ...               ...      ...   ...      ...  \n",
       "886      0            211536  13.0000   NaN        S  \n",
       "887      0            112053  30.0000   B42        S  \n",
       "888      2        W./C. 6607  23.4500   NaN        S  \n",
       "889      0            111369  30.0000  C148        C  \n",
       "890      0            370376   7.7500   NaN        Q  \n",
       "\n",
       "[891 rows x 12 columns]"
      ]
     },
     "execution_count": 3,
     "metadata": {},
     "output_type": "execute_result"
    }
   ],
   "source": [
    "df_titanic"
   ]
  },
  {
   "cell_type": "code",
   "execution_count": 4,
   "id": "f39152ee",
   "metadata": {},
   "outputs": [
    {
     "data": {
      "text/html": [
       "<div>\n",
       "<style scoped>\n",
       "    .dataframe tbody tr th:only-of-type {\n",
       "        vertical-align: middle;\n",
       "    }\n",
       "\n",
       "    .dataframe tbody tr th {\n",
       "        vertical-align: top;\n",
       "    }\n",
       "\n",
       "    .dataframe thead th {\n",
       "        text-align: right;\n",
       "    }\n",
       "</style>\n",
       "<table border=\"1\" class=\"dataframe\">\n",
       "  <thead>\n",
       "    <tr style=\"text-align: right;\">\n",
       "      <th></th>\n",
       "      <th>PassengerId</th>\n",
       "      <th>Survived</th>\n",
       "      <th>Pclass</th>\n",
       "      <th>Name</th>\n",
       "      <th>Sex</th>\n",
       "      <th>Age</th>\n",
       "      <th>SibSp</th>\n",
       "      <th>Parch</th>\n",
       "      <th>Ticket</th>\n",
       "      <th>Fare</th>\n",
       "      <th>Cabin</th>\n",
       "      <th>Embarked</th>\n",
       "    </tr>\n",
       "  </thead>\n",
       "  <tbody>\n",
       "    <tr>\n",
       "      <th>0</th>\n",
       "      <td>892</td>\n",
       "      <td>0</td>\n",
       "      <td>3</td>\n",
       "      <td>Kelly, Mr. James</td>\n",
       "      <td>male</td>\n",
       "      <td>34.5</td>\n",
       "      <td>0</td>\n",
       "      <td>0</td>\n",
       "      <td>330911</td>\n",
       "      <td>7.8292</td>\n",
       "      <td>NaN</td>\n",
       "      <td>Q</td>\n",
       "    </tr>\n",
       "    <tr>\n",
       "      <th>1</th>\n",
       "      <td>893</td>\n",
       "      <td>1</td>\n",
       "      <td>3</td>\n",
       "      <td>Wilkes, Mrs. James (Ellen Needs)</td>\n",
       "      <td>female</td>\n",
       "      <td>47.0</td>\n",
       "      <td>1</td>\n",
       "      <td>0</td>\n",
       "      <td>363272</td>\n",
       "      <td>7.0000</td>\n",
       "      <td>NaN</td>\n",
       "      <td>S</td>\n",
       "    </tr>\n",
       "    <tr>\n",
       "      <th>2</th>\n",
       "      <td>894</td>\n",
       "      <td>0</td>\n",
       "      <td>2</td>\n",
       "      <td>Myles, Mr. Thomas Francis</td>\n",
       "      <td>male</td>\n",
       "      <td>62.0</td>\n",
       "      <td>0</td>\n",
       "      <td>0</td>\n",
       "      <td>240276</td>\n",
       "      <td>9.6875</td>\n",
       "      <td>NaN</td>\n",
       "      <td>Q</td>\n",
       "    </tr>\n",
       "    <tr>\n",
       "      <th>3</th>\n",
       "      <td>895</td>\n",
       "      <td>0</td>\n",
       "      <td>3</td>\n",
       "      <td>Wirz, Mr. Albert</td>\n",
       "      <td>male</td>\n",
       "      <td>27.0</td>\n",
       "      <td>0</td>\n",
       "      <td>0</td>\n",
       "      <td>315154</td>\n",
       "      <td>8.6625</td>\n",
       "      <td>NaN</td>\n",
       "      <td>S</td>\n",
       "    </tr>\n",
       "    <tr>\n",
       "      <th>4</th>\n",
       "      <td>896</td>\n",
       "      <td>1</td>\n",
       "      <td>3</td>\n",
       "      <td>Hirvonen, Mrs. Alexander (Helga E Lindqvist)</td>\n",
       "      <td>female</td>\n",
       "      <td>22.0</td>\n",
       "      <td>1</td>\n",
       "      <td>1</td>\n",
       "      <td>3101298</td>\n",
       "      <td>12.2875</td>\n",
       "      <td>NaN</td>\n",
       "      <td>S</td>\n",
       "    </tr>\n",
       "    <tr>\n",
       "      <th>...</th>\n",
       "      <td>...</td>\n",
       "      <td>...</td>\n",
       "      <td>...</td>\n",
       "      <td>...</td>\n",
       "      <td>...</td>\n",
       "      <td>...</td>\n",
       "      <td>...</td>\n",
       "      <td>...</td>\n",
       "      <td>...</td>\n",
       "      <td>...</td>\n",
       "      <td>...</td>\n",
       "      <td>...</td>\n",
       "    </tr>\n",
       "    <tr>\n",
       "      <th>413</th>\n",
       "      <td>1305</td>\n",
       "      <td>0</td>\n",
       "      <td>3</td>\n",
       "      <td>Spector, Mr. Woolf</td>\n",
       "      <td>male</td>\n",
       "      <td>NaN</td>\n",
       "      <td>0</td>\n",
       "      <td>0</td>\n",
       "      <td>A.5. 3236</td>\n",
       "      <td>8.0500</td>\n",
       "      <td>NaN</td>\n",
       "      <td>S</td>\n",
       "    </tr>\n",
       "    <tr>\n",
       "      <th>414</th>\n",
       "      <td>1306</td>\n",
       "      <td>1</td>\n",
       "      <td>1</td>\n",
       "      <td>Oliva y Ocana, Dona. Fermina</td>\n",
       "      <td>female</td>\n",
       "      <td>39.0</td>\n",
       "      <td>0</td>\n",
       "      <td>0</td>\n",
       "      <td>PC 17758</td>\n",
       "      <td>108.9000</td>\n",
       "      <td>C105</td>\n",
       "      <td>C</td>\n",
       "    </tr>\n",
       "    <tr>\n",
       "      <th>415</th>\n",
       "      <td>1307</td>\n",
       "      <td>0</td>\n",
       "      <td>3</td>\n",
       "      <td>Saether, Mr. Simon Sivertsen</td>\n",
       "      <td>male</td>\n",
       "      <td>38.5</td>\n",
       "      <td>0</td>\n",
       "      <td>0</td>\n",
       "      <td>SOTON/O.Q. 3101262</td>\n",
       "      <td>7.2500</td>\n",
       "      <td>NaN</td>\n",
       "      <td>S</td>\n",
       "    </tr>\n",
       "    <tr>\n",
       "      <th>416</th>\n",
       "      <td>1308</td>\n",
       "      <td>0</td>\n",
       "      <td>3</td>\n",
       "      <td>Ware, Mr. Frederick</td>\n",
       "      <td>male</td>\n",
       "      <td>NaN</td>\n",
       "      <td>0</td>\n",
       "      <td>0</td>\n",
       "      <td>359309</td>\n",
       "      <td>8.0500</td>\n",
       "      <td>NaN</td>\n",
       "      <td>S</td>\n",
       "    </tr>\n",
       "    <tr>\n",
       "      <th>417</th>\n",
       "      <td>1309</td>\n",
       "      <td>0</td>\n",
       "      <td>3</td>\n",
       "      <td>Peter, Master. Michael J</td>\n",
       "      <td>male</td>\n",
       "      <td>NaN</td>\n",
       "      <td>1</td>\n",
       "      <td>1</td>\n",
       "      <td>2668</td>\n",
       "      <td>22.3583</td>\n",
       "      <td>NaN</td>\n",
       "      <td>C</td>\n",
       "    </tr>\n",
       "  </tbody>\n",
       "</table>\n",
       "<p>418 rows × 12 columns</p>\n",
       "</div>"
      ],
      "text/plain": [
       "     PassengerId  Survived  Pclass  \\\n",
       "0            892         0       3   \n",
       "1            893         1       3   \n",
       "2            894         0       2   \n",
       "3            895         0       3   \n",
       "4            896         1       3   \n",
       "..           ...       ...     ...   \n",
       "413         1305         0       3   \n",
       "414         1306         1       1   \n",
       "415         1307         0       3   \n",
       "416         1308         0       3   \n",
       "417         1309         0       3   \n",
       "\n",
       "                                             Name     Sex   Age  SibSp  Parch  \\\n",
       "0                                Kelly, Mr. James    male  34.5      0      0   \n",
       "1                Wilkes, Mrs. James (Ellen Needs)  female  47.0      1      0   \n",
       "2                       Myles, Mr. Thomas Francis    male  62.0      0      0   \n",
       "3                                Wirz, Mr. Albert    male  27.0      0      0   \n",
       "4    Hirvonen, Mrs. Alexander (Helga E Lindqvist)  female  22.0      1      1   \n",
       "..                                            ...     ...   ...    ...    ...   \n",
       "413                            Spector, Mr. Woolf    male   NaN      0      0   \n",
       "414                  Oliva y Ocana, Dona. Fermina  female  39.0      0      0   \n",
       "415                  Saether, Mr. Simon Sivertsen    male  38.5      0      0   \n",
       "416                           Ware, Mr. Frederick    male   NaN      0      0   \n",
       "417                      Peter, Master. Michael J    male   NaN      1      1   \n",
       "\n",
       "                 Ticket      Fare Cabin Embarked  \n",
       "0                330911    7.8292   NaN        Q  \n",
       "1                363272    7.0000   NaN        S  \n",
       "2                240276    9.6875   NaN        Q  \n",
       "3                315154    8.6625   NaN        S  \n",
       "4               3101298   12.2875   NaN        S  \n",
       "..                  ...       ...   ...      ...  \n",
       "413           A.5. 3236    8.0500   NaN        S  \n",
       "414            PC 17758  108.9000  C105        C  \n",
       "415  SOTON/O.Q. 3101262    7.2500   NaN        S  \n",
       "416              359309    8.0500   NaN        S  \n",
       "417                2668   22.3583   NaN        C  \n",
       "\n",
       "[418 rows x 12 columns]"
      ]
     },
     "execution_count": 4,
     "metadata": {},
     "output_type": "execute_result"
    }
   ],
   "source": [
    "df_titanic_test"
   ]
  },
  {
   "cell_type": "code",
   "execution_count": 5,
   "id": "beafb8a7",
   "metadata": {
    "execution": {
     "iopub.execute_input": "2022-08-15T18:48:19.629648Z",
     "iopub.status.busy": "2022-08-15T18:48:19.628898Z",
     "iopub.status.idle": "2022-08-15T18:48:19.655262Z",
     "shell.execute_reply": "2022-08-15T18:48:19.653637Z"
    },
    "papermill": {
     "duration": 0.045133,
     "end_time": "2022-08-15T18:48:19.657734",
     "exception": false,
     "start_time": "2022-08-15T18:48:19.612601",
     "status": "completed"
    },
    "tags": []
   },
   "outputs": [
    {
     "name": "stdout",
     "output_type": "stream",
     "text": [
      "<class 'pandas.core.frame.DataFrame'>\n",
      "RangeIndex: 891 entries, 0 to 890\n",
      "Data columns (total 12 columns):\n",
      " #   Column       Non-Null Count  Dtype  \n",
      "---  ------       --------------  -----  \n",
      " 0   PassengerId  891 non-null    int64  \n",
      " 1   Survived     891 non-null    int64  \n",
      " 2   Pclass       891 non-null    int64  \n",
      " 3   Name         891 non-null    object \n",
      " 4   Sex          891 non-null    object \n",
      " 5   Age          714 non-null    float64\n",
      " 6   SibSp        891 non-null    int64  \n",
      " 7   Parch        891 non-null    int64  \n",
      " 8   Ticket       891 non-null    object \n",
      " 9   Fare         891 non-null    float64\n",
      " 10  Cabin        204 non-null    object \n",
      " 11  Embarked     889 non-null    object \n",
      "dtypes: float64(2), int64(5), object(5)\n",
      "memory usage: 83.7+ KB\n"
     ]
    }
   ],
   "source": [
    "df_titanic.info()"
   ]
  },
  {
   "cell_type": "code",
   "execution_count": 6,
   "id": "ab3eb6bc",
   "metadata": {
    "execution": {
     "iopub.execute_input": "2022-08-15T18:48:19.691381Z",
     "iopub.status.busy": "2022-08-15T18:48:19.690258Z",
     "iopub.status.idle": "2022-08-15T18:48:19.728184Z",
     "shell.execute_reply": "2022-08-15T18:48:19.726902Z"
    },
    "papermill": {
     "duration": 0.058213,
     "end_time": "2022-08-15T18:48:19.731327",
     "exception": false,
     "start_time": "2022-08-15T18:48:19.673114",
     "status": "completed"
    },
    "tags": []
   },
   "outputs": [
    {
     "data": {
      "text/html": [
       "<div>\n",
       "<style scoped>\n",
       "    .dataframe tbody tr th:only-of-type {\n",
       "        vertical-align: middle;\n",
       "    }\n",
       "\n",
       "    .dataframe tbody tr th {\n",
       "        vertical-align: top;\n",
       "    }\n",
       "\n",
       "    .dataframe thead th {\n",
       "        text-align: right;\n",
       "    }\n",
       "</style>\n",
       "<table border=\"1\" class=\"dataframe\">\n",
       "  <thead>\n",
       "    <tr style=\"text-align: right;\">\n",
       "      <th></th>\n",
       "      <th>PassengerId</th>\n",
       "      <th>Survived</th>\n",
       "      <th>Pclass</th>\n",
       "      <th>Age</th>\n",
       "      <th>SibSp</th>\n",
       "      <th>Parch</th>\n",
       "      <th>Fare</th>\n",
       "    </tr>\n",
       "  </thead>\n",
       "  <tbody>\n",
       "    <tr>\n",
       "      <th>count</th>\n",
       "      <td>891.000000</td>\n",
       "      <td>891.000000</td>\n",
       "      <td>891.000000</td>\n",
       "      <td>714.000000</td>\n",
       "      <td>891.000000</td>\n",
       "      <td>891.000000</td>\n",
       "      <td>891.000000</td>\n",
       "    </tr>\n",
       "    <tr>\n",
       "      <th>mean</th>\n",
       "      <td>446.000000</td>\n",
       "      <td>0.383838</td>\n",
       "      <td>2.308642</td>\n",
       "      <td>29.699118</td>\n",
       "      <td>0.523008</td>\n",
       "      <td>0.381594</td>\n",
       "      <td>32.204208</td>\n",
       "    </tr>\n",
       "    <tr>\n",
       "      <th>std</th>\n",
       "      <td>257.353842</td>\n",
       "      <td>0.486592</td>\n",
       "      <td>0.836071</td>\n",
       "      <td>14.526497</td>\n",
       "      <td>1.102743</td>\n",
       "      <td>0.806057</td>\n",
       "      <td>49.693429</td>\n",
       "    </tr>\n",
       "    <tr>\n",
       "      <th>min</th>\n",
       "      <td>1.000000</td>\n",
       "      <td>0.000000</td>\n",
       "      <td>1.000000</td>\n",
       "      <td>0.420000</td>\n",
       "      <td>0.000000</td>\n",
       "      <td>0.000000</td>\n",
       "      <td>0.000000</td>\n",
       "    </tr>\n",
       "    <tr>\n",
       "      <th>25%</th>\n",
       "      <td>223.500000</td>\n",
       "      <td>0.000000</td>\n",
       "      <td>2.000000</td>\n",
       "      <td>20.125000</td>\n",
       "      <td>0.000000</td>\n",
       "      <td>0.000000</td>\n",
       "      <td>7.910400</td>\n",
       "    </tr>\n",
       "    <tr>\n",
       "      <th>50%</th>\n",
       "      <td>446.000000</td>\n",
       "      <td>0.000000</td>\n",
       "      <td>3.000000</td>\n",
       "      <td>28.000000</td>\n",
       "      <td>0.000000</td>\n",
       "      <td>0.000000</td>\n",
       "      <td>14.454200</td>\n",
       "    </tr>\n",
       "    <tr>\n",
       "      <th>75%</th>\n",
       "      <td>668.500000</td>\n",
       "      <td>1.000000</td>\n",
       "      <td>3.000000</td>\n",
       "      <td>38.000000</td>\n",
       "      <td>1.000000</td>\n",
       "      <td>0.000000</td>\n",
       "      <td>31.000000</td>\n",
       "    </tr>\n",
       "    <tr>\n",
       "      <th>max</th>\n",
       "      <td>891.000000</td>\n",
       "      <td>1.000000</td>\n",
       "      <td>3.000000</td>\n",
       "      <td>80.000000</td>\n",
       "      <td>8.000000</td>\n",
       "      <td>6.000000</td>\n",
       "      <td>512.329200</td>\n",
       "    </tr>\n",
       "  </tbody>\n",
       "</table>\n",
       "</div>"
      ],
      "text/plain": [
       "       PassengerId    Survived      Pclass         Age       SibSp  \\\n",
       "count   891.000000  891.000000  891.000000  714.000000  891.000000   \n",
       "mean    446.000000    0.383838    2.308642   29.699118    0.523008   \n",
       "std     257.353842    0.486592    0.836071   14.526497    1.102743   \n",
       "min       1.000000    0.000000    1.000000    0.420000    0.000000   \n",
       "25%     223.500000    0.000000    2.000000   20.125000    0.000000   \n",
       "50%     446.000000    0.000000    3.000000   28.000000    0.000000   \n",
       "75%     668.500000    1.000000    3.000000   38.000000    1.000000   \n",
       "max     891.000000    1.000000    3.000000   80.000000    8.000000   \n",
       "\n",
       "            Parch        Fare  \n",
       "count  891.000000  891.000000  \n",
       "mean     0.381594   32.204208  \n",
       "std      0.806057   49.693429  \n",
       "min      0.000000    0.000000  \n",
       "25%      0.000000    7.910400  \n",
       "50%      0.000000   14.454200  \n",
       "75%      0.000000   31.000000  \n",
       "max      6.000000  512.329200  "
      ]
     },
     "execution_count": 6,
     "metadata": {},
     "output_type": "execute_result"
    }
   ],
   "source": [
    "df_titanic.describe()"
   ]
  },
  {
   "cell_type": "code",
   "execution_count": 7,
   "id": "b065770d",
   "metadata": {
    "execution": {
     "iopub.execute_input": "2022-08-15T18:48:19.764646Z",
     "iopub.status.busy": "2022-08-15T18:48:19.763772Z",
     "iopub.status.idle": "2022-08-15T18:48:19.774870Z",
     "shell.execute_reply": "2022-08-15T18:48:19.773617Z"
    },
    "papermill": {
     "duration": 0.03063,
     "end_time": "2022-08-15T18:48:19.777389",
     "exception": false,
     "start_time": "2022-08-15T18:48:19.746759",
     "status": "completed"
    },
    "tags": []
   },
   "outputs": [
    {
     "data": {
      "text/plain": [
       "PassengerId      0\n",
       "Survived         0\n",
       "Pclass           0\n",
       "Name             0\n",
       "Sex              0\n",
       "Age            177\n",
       "SibSp            0\n",
       "Parch            0\n",
       "Ticket           0\n",
       "Fare             0\n",
       "Cabin          687\n",
       "Embarked         2\n",
       "dtype: int64"
      ]
     },
     "execution_count": 7,
     "metadata": {},
     "output_type": "execute_result"
    }
   ],
   "source": [
    "#check nulls\n",
    "df_titanic.isna().sum()"
   ]
  },
  {
   "cell_type": "code",
   "execution_count": 8,
   "id": "c3a64388",
   "metadata": {
    "execution": {
     "iopub.execute_input": "2022-08-15T18:48:19.811426Z",
     "iopub.status.busy": "2022-08-15T18:48:19.810215Z",
     "iopub.status.idle": "2022-08-15T18:48:20.348092Z",
     "shell.execute_reply": "2022-08-15T18:48:20.346886Z"
    },
    "papermill": {
     "duration": 0.558085,
     "end_time": "2022-08-15T18:48:20.351421",
     "exception": false,
     "start_time": "2022-08-15T18:48:19.793336",
     "status": "completed"
    },
    "tags": []
   },
   "outputs": [
    {
     "name": "stderr",
     "output_type": "stream",
     "text": [
      "C:\\Users\\gimep\\AppData\\Local\\Temp\\ipykernel_12556\\1348979053.py:3: FutureWarning: The default value of numeric_only in DataFrame.corr is deprecated. In a future version, it will default to False. Select only valid columns or specify the value of numeric_only to silence this warning.\n",
      "  sns.heatmap(df_titanic.corr(), annot=True, cmap=('Blues'));\n"
     ]
    },
    {
     "data": {
      "image/png": "[encoded data removed]",
      "text/plain": [
       "<Figure size 1000x600 with 2 Axes>"
      ]
     },
     "metadata": {},
     "output_type": "display_data"
    }
   ],
   "source": [
    "# Heatmap\n",
    "plt.figure(figsize=(10,6))\n",
    "sns.heatmap(df_titanic.corr(), annot=True, cmap=('Blues'));"
   ]
  },
  {
   "cell_type": "code",
   "execution_count": 9,
   "id": "ab4fc9d2",
   "metadata": {
    "execution": {
     "iopub.execute_input": "2022-08-15T18:48:20.386964Z",
     "iopub.status.busy": "2022-08-15T18:48:20.386482Z",
     "iopub.status.idle": "2022-08-15T18:48:20.396015Z",
     "shell.execute_reply": "2022-08-15T18:48:20.394842Z"
    },
    "papermill": {
     "duration": 0.030918,
     "end_time": "2022-08-15T18:48:20.398937",
     "exception": false,
     "start_time": "2022-08-15T18:48:20.368019",
     "status": "completed"
    },
    "tags": []
   },
   "outputs": [
    {
     "data": {
      "text/plain": [
       "male      577\n",
       "female    314\n",
       "Name: Sex, dtype: int64"
      ]
     },
     "execution_count": 9,
     "metadata": {},
     "output_type": "execute_result"
    }
   ],
   "source": [
    "Sex_values = df_titanic['Sex'].value_counts()\n",
    "Sex_values"
   ]
  },
  {
   "cell_type": "code",
   "execution_count": 10,
   "id": "2a82452d",
   "metadata": {
    "execution": {
     "iopub.execute_input": "2022-08-15T18:48:20.434387Z",
     "iopub.status.busy": "2022-08-15T18:48:20.433948Z",
     "iopub.status.idle": "2022-08-15T18:48:20.440475Z",
     "shell.execute_reply": "2022-08-15T18:48:20.439246Z"
    },
    "papermill": {
     "duration": 0.026869,
     "end_time": "2022-08-15T18:48:20.442880",
     "exception": false,
     "start_time": "2022-08-15T18:48:20.416011",
     "status": "completed"
    },
    "tags": []
   },
   "outputs": [],
   "source": [
    "# function to show percentage of count\n",
    "def show_percentage(dataframe, feature_count):\n",
    "    total = len(dataframe)\n",
    "    for i in range(feature_count.shape[0]):\n",
    "        count=feature_count[i]\n",
    "        percentage = '{:0.2f}%'.format(100 * count/total)\n",
    "        plt.text(i, count+10, percentage, ha='center', color='blue', fontsize=12)"
   ]
  },
  {
   "cell_type": "code",
   "execution_count": 11,
   "id": "59b22d36",
   "metadata": {
    "execution": {
     "iopub.execute_input": "2022-08-15T18:48:20.478556Z",
     "iopub.status.busy": "2022-08-15T18:48:20.477741Z",
     "iopub.status.idle": "2022-08-15T18:48:20.612252Z",
     "shell.execute_reply": "2022-08-15T18:48:20.610069Z"
    },
    "papermill": {
     "duration": 0.157846,
     "end_time": "2022-08-15T18:48:20.617130",
     "exception": false,
     "start_time": "2022-08-15T18:48:20.459284",
     "status": "completed"
    },
    "tags": []
   },
   "outputs": [
    {
     "data": {
      "image/png": "[encoded data removed]",
      "text/plain": [
       "<Figure size 600x600 with 1 Axes>"
      ]
     },
     "metadata": {},
     "output_type": "display_data"
    }
   ],
   "source": [
    "#visualizing \"Sex\"\n",
    "plt.figure(figsize=(6,6))\n",
    "sns.countplot(x='Sex', data = df_titanic, order=Sex_values.index)\n",
    "show_percentage(df_titanic, Sex_values)\n",
    "plt.xlabel('Sex_values', fontsize=16)\n",
    "plt.ylabel('value_counts', fontsize=16)\n",
    "plt.show()"
   ]
  },
  {
   "cell_type": "code",
   "execution_count": 12,
   "id": "924f3b9d",
   "metadata": {
    "execution": {
     "iopub.execute_input": "2022-08-15T18:48:20.661400Z",
     "iopub.status.busy": "2022-08-15T18:48:20.660364Z",
     "iopub.status.idle": "2022-08-15T18:48:20.671154Z",
     "shell.execute_reply": "2022-08-15T18:48:20.669974Z"
    },
    "papermill": {
     "duration": 0.032654,
     "end_time": "2022-08-15T18:48:20.674247",
     "exception": false,
     "start_time": "2022-08-15T18:48:20.641593",
     "status": "completed"
    },
    "tags": []
   },
   "outputs": [
    {
     "data": {
      "text/plain": [
       "0    549\n",
       "1    342\n",
       "Name: Survived, dtype: int64"
      ]
     },
     "execution_count": 12,
     "metadata": {},
     "output_type": "execute_result"
    }
   ],
   "source": [
    "Survived_values = df_titanic['Survived'].value_counts()\n",
    "Survived_values"
   ]
  },
  {
   "cell_type": "code",
   "execution_count": 13,
   "id": "62dcd426",
   "metadata": {
    "execution": {
     "iopub.execute_input": "2022-08-15T18:48:20.709850Z",
     "iopub.status.busy": "2022-08-15T18:48:20.709399Z",
     "iopub.status.idle": "2022-08-15T18:48:20.965136Z",
     "shell.execute_reply": "2022-08-15T18:48:20.963937Z"
    },
    "papermill": {
     "duration": 0.27671,
     "end_time": "2022-08-15T18:48:20.967638",
     "exception": false,
     "start_time": "2022-08-15T18:48:20.690928",
     "status": "completed"
    },
    "tags": []
   },
   "outputs": [
    {
     "data": {
      "image/png": "[encoded data removed]",
      "text/plain": [
       "<Figure size 600x600 with 1 Axes>"
      ]
     },
     "metadata": {},
     "output_type": "display_data"
    }
   ],
   "source": [
    "#visualizing \"Sex vs Survived\"\n",
    "plt.figure(figsize=(6,6))\n",
    "sns.barplot(data = df_titanic , x = 'Sex' , y = \"Survived\")\n",
    "#show_percentage(df_titanic, Sex_values)\n",
    "plt.xlabel('Sex_values', fontsize=16)\n",
    "plt.ylabel('Survived_values', fontsize=16)\n",
    "plt.show()"
   ]
  },
  {
   "cell_type": "code",
   "execution_count": 14,
   "id": "1964df76",
   "metadata": {
    "execution": {
     "iopub.execute_input": "2022-08-15T18:48:21.004282Z",
     "iopub.status.busy": "2022-08-15T18:48:21.003011Z",
     "iopub.status.idle": "2022-08-15T18:48:21.280676Z",
     "shell.execute_reply": "2022-08-15T18:48:21.279205Z"
    },
    "papermill": {
     "duration": 0.298527,
     "end_time": "2022-08-15T18:48:21.283230",
     "exception": false,
     "start_time": "2022-08-15T18:48:20.984703",
     "status": "completed"
    },
    "tags": []
   },
   "outputs": [
    {
     "data": {
      "image/png": "[encoded data removed]",
      "text/plain": [
       "<Figure size 600x600 with 1 Axes>"
      ]
     },
     "metadata": {},
     "output_type": "display_data"
    }
   ],
   "source": [
    "plt.figure(figsize=(6,6))\n",
    "sns.barplot(data = df_titanic , x = 'Pclass' , y = \"Survived\")\n",
    "plt.xlabel('Pclass', fontsize=16)\n",
    "plt.ylabel('Survived_values', fontsize=16)\n",
    "plt.show()"
   ]
  },
  {
   "cell_type": "code",
   "execution_count": 15,
   "id": "e55e3f87",
   "metadata": {
    "execution": {
     "iopub.execute_input": "2022-08-15T18:48:21.320129Z",
     "iopub.status.busy": "2022-08-15T18:48:21.319035Z",
     "iopub.status.idle": "2022-08-15T18:48:21.500873Z",
     "shell.execute_reply": "2022-08-15T18:48:21.499593Z"
    },
    "papermill": {
     "duration": 0.203276,
     "end_time": "2022-08-15T18:48:21.503723",
     "exception": false,
     "start_time": "2022-08-15T18:48:21.300447",
     "status": "completed"
    },
    "tags": []
   },
   "outputs": [
    {
     "data": {
      "image/png": "[encoded data removed]",
      "text/plain": [
       "<Figure size 600x600 with 1 Axes>"
      ]
     },
     "metadata": {},
     "output_type": "display_data"
    }
   ],
   "source": [
    "#visualizing \"Survived\"\n",
    "plt.figure(figsize=(6,6))\n",
    "sns.countplot(x='Survived', data = df_titanic, order=Survived_values.index)\n",
    "show_percentage(df_titanic, Survived_values)\n",
    "plt.xlabel('Survived_values', fontsize=16)\n",
    "plt.ylabel('value_counts', fontsize=16)\n",
    "plt.show()"
   ]
  },
  {
   "cell_type": "code",
   "execution_count": 16,
   "id": "a51670df",
   "metadata": {
    "execution": {
     "iopub.execute_input": "2022-08-15T18:48:21.542441Z",
     "iopub.status.busy": "2022-08-15T18:48:21.541734Z",
     "iopub.status.idle": "2022-08-15T18:48:21.549143Z",
     "shell.execute_reply": "2022-08-15T18:48:21.547728Z"
    },
    "papermill": {
     "duration": 0.030579,
     "end_time": "2022-08-15T18:48:21.551817",
     "exception": false,
     "start_time": "2022-08-15T18:48:21.521238",
     "status": "completed"
    },
    "tags": []
   },
   "outputs": [
    {
     "data": {
      "text/plain": [
       "(80.0, 0.42)"
      ]
     },
     "execution_count": 16,
     "metadata": {},
     "output_type": "execute_result"
    }
   ],
   "source": [
    "df_titanic['Age'].max(), df_titanic['Age'].min()"
   ]
  },
  {
   "cell_type": "code",
   "execution_count": 17,
   "id": "521ac07c",
   "metadata": {
    "execution": {
     "iopub.execute_input": "2022-08-15T18:48:21.590779Z",
     "iopub.status.busy": "2022-08-15T18:48:21.590347Z",
     "iopub.status.idle": "2022-08-15T18:48:21.801654Z",
     "shell.execute_reply": "2022-08-15T18:48:21.800443Z"
    },
    "papermill": {
     "duration": 0.233531,
     "end_time": "2022-08-15T18:48:21.804687",
     "exception": false,
     "start_time": "2022-08-15T18:48:21.571156",
     "status": "completed"
    },
    "tags": []
   },
   "outputs": [
    {
     "data": {
      "text/plain": [
       "<Axes: xlabel='Age', ylabel='count'>"
      ]
     },
     "execution_count": 17,
     "metadata": {},
     "output_type": "execute_result"
    },
    {
     "data": {
      "image/png": "[encoded data removed]",
      "text/plain": [
       "<Figure size 640x480 with 1 Axes>"
      ]
     },
     "metadata": {},
     "output_type": "display_data"
    }
   ],
   "source": [
    "#convert \"Age_train\" to group\n",
    "Age_groups = pd.cut(x=df_titanic['Age'], bins=[-np.inf, 10, 20, 30, 40, 50, 60, 70, np.inf], labels=['0-10', '10-20', '20-30', '30-40', '40-50', '50-60', '60-70', '>70'])\n",
    "sns.countplot(x=Age_groups)"
   ]
  },
  {
   "cell_type": "code",
   "execution_count": 18,
   "id": "d9b255e5",
   "metadata": {
    "execution": {
     "iopub.execute_input": "2022-08-15T18:48:21.843374Z",
     "iopub.status.busy": "2022-08-15T18:48:21.842309Z",
     "iopub.status.idle": "2022-08-15T18:48:22.126697Z",
     "shell.execute_reply": "2022-08-15T18:48:22.125745Z"
    },
    "papermill": {
     "duration": 0.30669,
     "end_time": "2022-08-15T18:48:22.129255",
     "exception": false,
     "start_time": "2022-08-15T18:48:21.822565",
     "status": "completed"
    },
    "tags": []
   },
   "outputs": [
    {
     "name": "stderr",
     "output_type": "stream",
     "text": [
      "C:\\Users\\gimep\\AppData\\Local\\Temp\\ipykernel_12556\\2181859130.py:2: UserWarning: set_ticklabels() should only be used with a fixed number of ticks, i.e. after set_ticks() or using a FixedLocator.\n",
      "  sns.countplot(data = df_titanic , x = df_titanic['Survived'] , hue = Age_groups).set(xticklabels=['unservived', 'servived'])\n"
     ]
    },
    {
     "data": {
      "image/png": "[encoded data removed]",
      "text/plain": [
       "<Figure size 600x600 with 1 Axes>"
      ]
     },
     "metadata": {},
     "output_type": "display_data"
    }
   ],
   "source": [
    "plt.figure(figsize=(6,6))\n",
    "sns.countplot(data = df_titanic , x = df_titanic['Survived'] , hue = Age_groups).set(xticklabels=['unservived', 'servived'])\n",
    "#show_percentage(df_titanic, Sex_values)\n",
    "plt.xlabel('Age_groups', fontsize=16)\n",
    "plt.ylabel('Survived_values', fontsize=16)\n",
    "plt.show()"
   ]
  },
  {
   "cell_type": "code",
   "execution_count": 19,
   "id": "c9b59f37",
   "metadata": {
    "execution": {
     "iopub.execute_input": "2022-08-15T18:48:22.168177Z",
     "iopub.status.busy": "2022-08-15T18:48:22.167684Z",
     "iopub.status.idle": "2022-08-15T18:48:22.174753Z",
     "shell.execute_reply": "2022-08-15T18:48:22.173749Z"
    },
    "papermill": {
     "duration": 0.029596,
     "end_time": "2022-08-15T18:48:22.177212",
     "exception": false,
     "start_time": "2022-08-15T18:48:22.147616",
     "status": "completed"
    },
    "tags": []
   },
   "outputs": [],
   "source": [
    "## Train data set\n",
    "\n",
    "features = df_titanic.drop(['Survived', 'Name', 'PassengerId', 'Cabin', 'Ticket'], axis=1) #features\n",
    "target = df_titanic['Survived'] #target"
   ]
  },
  {
   "cell_type": "code",
   "execution_count": 20,
   "id": "b93b47d6",
   "metadata": {
    "execution": {
     "iopub.execute_input": "2022-08-15T18:48:22.216859Z",
     "iopub.status.busy": "2022-08-15T18:48:22.215512Z",
     "iopub.status.idle": "2022-08-15T18:48:22.224856Z",
     "shell.execute_reply": "2022-08-15T18:48:22.223539Z"
    },
    "papermill": {
     "duration": 0.032111,
     "end_time": "2022-08-15T18:48:22.227589",
     "exception": false,
     "start_time": "2022-08-15T18:48:22.195478",
     "status": "completed"
    },
    "tags": []
   },
   "outputs": [],
   "source": [
    "x_train,x_test, y_train, y_test = train_test_split(features, target, test_size=.15, random_state=123)"
   ]
  },
  {
   "cell_type": "code",
   "execution_count": 21,
   "id": "c7f1c373",
   "metadata": {
    "execution": {
     "iopub.execute_input": "2022-08-15T18:48:22.267399Z",
     "iopub.status.busy": "2022-08-15T18:48:22.266597Z",
     "iopub.status.idle": "2022-08-15T18:48:22.274701Z",
     "shell.execute_reply": "2022-08-15T18:48:22.273481Z"
    },
    "papermill": {
     "duration": 0.030928,
     "end_time": "2022-08-15T18:48:22.277398",
     "exception": false,
     "start_time": "2022-08-15T18:48:22.246470",
     "status": "completed"
    },
    "tags": []
   },
   "outputs": [],
   "source": [
    "# numerical and category for train dataset\n",
    "numerical_cols_train=[col for col in x_train.columns if x_train[col].dtype in ['float64', 'float32', 'int64', 'int32']]\n",
    "category_cols_train=[col for col in x_train.columns if x_train[col].dtype not in ['float64', 'float32', 'int64', 'int32']]"
   ]
  },
  {
   "cell_type": "code",
   "execution_count": 22,
   "id": "5ae971bd",
   "metadata": {
    "execution": {
     "iopub.execute_input": "2022-08-15T18:48:22.316243Z",
     "iopub.status.busy": "2022-08-15T18:48:22.315825Z",
     "iopub.status.idle": "2022-08-15T18:48:22.322053Z",
     "shell.execute_reply": "2022-08-15T18:48:22.321142Z"
    },
    "papermill": {
     "duration": 0.028587,
     "end_time": "2022-08-15T18:48:22.324154",
     "exception": false,
     "start_time": "2022-08-15T18:48:22.295567",
     "status": "completed"
    },
    "tags": []
   },
   "outputs": [],
   "source": [
    "# numerical and category for test dataset\n",
    "numerical_cols_test=[col for col in x_test.columns if x_test[col].dtype in ['float64', 'float32', 'int64', 'int32']]\n",
    "category_cols_test=[col for col in x_test.columns if x_test[col].dtype not in ['float64', 'float32', 'int64', 'int32']]"
   ]
  },
  {
   "cell_type": "code",
   "execution_count": 23,
   "id": "012fe801",
   "metadata": {
    "execution": {
     "iopub.execute_input": "2022-08-15T18:48:22.363013Z",
     "iopub.status.busy": "2022-08-15T18:48:22.361781Z",
     "iopub.status.idle": "2022-08-15T18:48:22.368393Z",
     "shell.execute_reply": "2022-08-15T18:48:22.367518Z"
    },
    "papermill": {
     "duration": 0.028281,
     "end_time": "2022-08-15T18:48:22.370627",
     "exception": false,
     "start_time": "2022-08-15T18:48:22.342346",
     "status": "completed"
    },
    "tags": []
   },
   "outputs": [
    {
     "data": {
      "text/plain": [
       "(['Pclass', 'Age', 'SibSp', 'Parch', 'Fare'], ['Sex', 'Embarked'])"
      ]
     },
     "execution_count": 23,
     "metadata": {},
     "output_type": "execute_result"
    }
   ],
   "source": [
    "numerical_cols_train, category_cols_train"
   ]
  },
  {
   "cell_type": "code",
   "execution_count": 24,
   "id": "2046c5df",
   "metadata": {
    "execution": {
     "iopub.execute_input": "2022-08-15T18:48:22.409708Z",
     "iopub.status.busy": "2022-08-15T18:48:22.408555Z",
     "iopub.status.idle": "2022-08-15T18:48:22.413676Z",
     "shell.execute_reply": "2022-08-15T18:48:22.412745Z"
    },
    "papermill": {
     "duration": 0.027221,
     "end_time": "2022-08-15T18:48:22.416233",
     "exception": false,
     "start_time": "2022-08-15T18:48:22.389012",
     "status": "completed"
    },
    "tags": []
   },
   "outputs": [],
   "source": [
    "numerical_cols_train.remove('Pclass')\n",
    "numerical_cols_train.remove('SibSp')\n",
    "numerical_cols_train.remove('Parch')"
   ]
  },
  {
   "cell_type": "code",
   "execution_count": 25,
   "id": "c7a832c6",
   "metadata": {
    "execution": {
     "iopub.execute_input": "2022-08-15T18:48:22.454450Z",
     "iopub.status.busy": "2022-08-15T18:48:22.454001Z",
     "iopub.status.idle": "2022-08-15T18:48:22.461660Z",
     "shell.execute_reply": "2022-08-15T18:48:22.460521Z"
    },
    "papermill": {
     "duration": 0.029796,
     "end_time": "2022-08-15T18:48:22.464201",
     "exception": false,
     "start_time": "2022-08-15T18:48:22.434405",
     "status": "completed"
    },
    "tags": []
   },
   "outputs": [
    {
     "data": {
      "text/plain": [
       "(['Pclass', 'Age', 'SibSp', 'Parch', 'Fare'], ['Sex', 'Embarked'])"
      ]
     },
     "execution_count": 25,
     "metadata": {},
     "output_type": "execute_result"
    }
   ],
   "source": [
    "numerical_cols_test, category_cols_test"
   ]
  },
  {
   "cell_type": "code",
   "execution_count": 26,
   "id": "ee4654f8",
   "metadata": {
    "execution": {
     "iopub.execute_input": "2022-08-15T18:48:22.503826Z",
     "iopub.status.busy": "2022-08-15T18:48:22.502907Z",
     "iopub.status.idle": "2022-08-15T18:48:22.509439Z",
     "shell.execute_reply": "2022-08-15T18:48:22.507891Z"
    },
    "papermill": {
     "duration": 0.029222,
     "end_time": "2022-08-15T18:48:22.512001",
     "exception": false,
     "start_time": "2022-08-15T18:48:22.482779",
     "status": "completed"
    },
    "tags": []
   },
   "outputs": [],
   "source": [
    "numerical_cols_test.remove('Pclass')\n",
    "numerical_cols_test.remove('SibSp')\n",
    "numerical_cols_test.remove('Parch')"
   ]
  },
  {
   "cell_type": "code",
   "execution_count": 27,
   "id": "7fc77ba0",
   "metadata": {
    "execution": {
     "iopub.execute_input": "2022-08-15T18:48:22.556185Z",
     "iopub.status.busy": "2022-08-15T18:48:22.555461Z",
     "iopub.status.idle": "2022-08-15T18:48:22.571308Z",
     "shell.execute_reply": "2022-08-15T18:48:22.570125Z"
    },
    "papermill": {
     "duration": 0.042517,
     "end_time": "2022-08-15T18:48:22.573925",
     "exception": false,
     "start_time": "2022-08-15T18:48:22.531408",
     "status": "completed"
    },
    "tags": []
   },
   "outputs": [],
   "source": [
    "## standardization and labelling for train and test for train dataset\n",
    "\n",
    "# impute nulls \n",
    "imputer = SimpleImputer(strategy='median')\n",
    "x_train_im = imputer.fit_transform(x_train[numerical_cols_train])\n",
    "x_test_im = imputer.transform(x_test[numerical_cols_train])\n",
    "\n",
    "# standardization\n",
    "scalar = StandardScaler()\n",
    "x_train_sc= scalar.fit_transform(x_train_im)\n",
    "x_test_sc = scalar.transform(x_test_im)"
   ]
  },
  {
   "cell_type": "code",
   "execution_count": 28,
   "id": "e046c54d",
   "metadata": {
    "execution": {
     "iopub.execute_input": "2022-08-15T18:48:22.613032Z",
     "iopub.status.busy": "2022-08-15T18:48:22.612311Z",
     "iopub.status.idle": "2022-08-15T18:48:22.627638Z",
     "shell.execute_reply": "2022-08-15T18:48:22.626186Z"
    },
    "papermill": {
     "duration": 0.038016,
     "end_time": "2022-08-15T18:48:22.630366",
     "exception": false,
     "start_time": "2022-08-15T18:48:22.592350",
     "status": "completed"
    },
    "tags": []
   },
   "outputs": [],
   "source": [
    "# Label encoding\n",
    "imputer_catg = SimpleImputer(strategy='constant', fill_value=df_titanic['Sex'].mode())\n",
    "x_train_imput_0 = imputer_catg.fit_transform(x_train[category_cols_train].values[:, 0].reshape(-1,1))\n",
    "x_test_impuet_0 = imputer_catg.transform(x_test[category_cols_train].values[:, 0].reshape(-1,1))\n",
    "\n",
    "x_train_imput_0 = x_train_imput_0.ravel()\n",
    "x_test_impuet_0 = x_test_impuet_0.ravel()\n",
    "\n",
    "lbencd = LabelEncoder()\n",
    "x_train_encd_0 = lbencd.fit_transform(x_train_imput_0)\n",
    "x_test_encd_0 = lbencd.transform(x_test_impuet_0)\n",
    "\n",
    "\n",
    "imputer_catg = SimpleImputer(strategy='constant', fill_value=df_titanic['Embarked'].mode())\n",
    "x_train_imput_1 = imputer_catg.fit_transform(x_train[category_cols_train].values[:, 1].reshape(-1,1))\n",
    "x_test_imput_1 = imputer_catg.transform(x_test[category_cols_train].values[:, 1].reshape(-1,1))\n",
    "\n",
    "x_train_imput_1 = x_train_imput_1.ravel()\n",
    "x_test_imput_1 = x_test_imput_1.ravel()\n",
    "\n",
    "lbencd = LabelEncoder()\n",
    "x_train_encd_1 = lbencd.fit_transform(x_train_imput_1)\n",
    "x_test_encd_1 = lbencd.transform(x_test_imput_1)"
   ]
  },
  {
   "cell_type": "code",
   "execution_count": 29,
   "id": "73dde71e",
   "metadata": {
    "execution": {
     "iopub.execute_input": "2022-08-15T18:48:22.669506Z",
     "iopub.status.busy": "2022-08-15T18:48:22.669058Z",
     "iopub.status.idle": "2022-08-15T18:48:22.679113Z",
     "shell.execute_reply": "2022-08-15T18:48:22.677855Z"
    },
    "papermill": {
     "duration": 0.032389,
     "end_time": "2022-08-15T18:48:22.681501",
     "exception": false,
     "start_time": "2022-08-15T18:48:22.649112",
     "status": "completed"
    },
    "tags": []
   },
   "outputs": [
    {
     "data": {
      "text/plain": [
       "array([[0, 2, 0, 0, 1],\n",
       "       [1, 2, 0, 0, 3],\n",
       "       [0, 0, 0, 1, 1],\n",
       "       ...,\n",
       "       [1, 2, 0, 0, 3],\n",
       "       [1, 2, 0, 0, 3],\n",
       "       [1, 1, 0, 0, 3]], dtype=int64)"
      ]
     },
     "execution_count": 29,
     "metadata": {},
     "output_type": "execute_result"
    }
   ],
   "source": [
    "x_train_encd = np.c_[x_train_encd_0, x_train_encd_1]\n",
    "x_test_encd = np.c_[x_test_encd_0, x_test_encd_1]\n",
    "\n",
    "x_train_encd = np.c_[x_train_encd, x_train['SibSp']]\n",
    "x_train_encd = np.c_[x_train_encd, x_train['Parch']]\n",
    "x_train_encd = np.c_[x_train_encd, x_train['Pclass']]\n",
    "x_train_encd"
   ]
  },
  {
   "cell_type": "code",
   "execution_count": 30,
   "id": "de2adcf6",
   "metadata": {
    "execution": {
     "iopub.execute_input": "2022-08-15T18:48:22.722246Z",
     "iopub.status.busy": "2022-08-15T18:48:22.721521Z",
     "iopub.status.idle": "2022-08-15T18:48:22.732017Z",
     "shell.execute_reply": "2022-08-15T18:48:22.731148Z"
    },
    "papermill": {
     "duration": 0.034236,
     "end_time": "2022-08-15T18:48:22.734540",
     "exception": false,
     "start_time": "2022-08-15T18:48:22.700304",
     "status": "completed"
    },
    "tags": []
   },
   "outputs": [
    {
     "data": {
      "text/plain": [
       "array([[0, 2, 1, 1, 3],\n",
       "       [1, 0, 0, 0, 3],\n",
       "       [1, 0, 0, 0, 1],\n",
       "       [1, 2, 0, 0, 1],\n",
       "       [1, 0, 1, 0, 3],\n",
       "       [1, 2, 0, 0, 2],\n",
       "       [0, 2, 0, 0, 2],\n",
       "       [0, 2, 1, 0, 2],\n",
       "       [0, 0, 0, 1, 3],\n",
       "       [0, 2, 0, 4, 3],\n",
       "       [0, 2, 2, 2, 3],\n",
       "       [0, 2, 0, 0, 3],\n",
       "       [0, 2, 1, 1, 1],\n",
       "       [1, 2, 0, 0, 3],\n",
       "       [0, 0, 0, 0, 1],\n",
       "       [0, 0, 2, 1, 3],\n",
       "       [0, 0, 0, 0, 1],\n",
       "       [1, 2, 0, 0, 1],\n",
       "       [0, 2, 1, 4, 3],\n",
       "       [1, 2, 1, 0, 2],\n",
       "       [0, 2, 1, 2, 3],\n",
       "       [0, 2, 0, 2, 2],\n",
       "       [1, 2, 0, 0, 2],\n",
       "       [1, 1, 4, 1, 3],\n",
       "       [1, 2, 4, 1, 3],\n",
       "       [1, 2, 1, 0, 3],\n",
       "       [1, 2, 0, 0, 3],\n",
       "       [0, 0, 1, 0, 1],\n",
       "       [1, 2, 0, 0, 3],\n",
       "       [1, 1, 0, 0, 3],\n",
       "       [0, 2, 3, 2, 3],\n",
       "       [0, 2, 1, 1, 2],\n",
       "       [1, 2, 0, 0, 2],\n",
       "       [1, 2, 0, 0, 3],\n",
       "       [1, 2, 1, 1, 2],\n",
       "       [1, 0, 0, 0, 3],\n",
       "       [1, 2, 0, 0, 3],\n",
       "       [1, 2, 0, 0, 3],\n",
       "       [0, 2, 0, 0, 2],\n",
       "       [1, 0, 0, 0, 1],\n",
       "       [0, 2, 1, 2, 1],\n",
       "       [1, 0, 2, 0, 3],\n",
       "       [0, 0, 1, 0, 3],\n",
       "       [0, 2, 0, 0, 3],\n",
       "       [1, 2, 0, 0, 3],\n",
       "       [1, 2, 0, 0, 2],\n",
       "       [0, 2, 1, 0, 1],\n",
       "       [1, 2, 1, 0, 1],\n",
       "       [1, 2, 0, 0, 3],\n",
       "       [0, 2, 1, 0, 2],\n",
       "       [0, 0, 0, 0, 3],\n",
       "       [0, 2, 4, 2, 3],\n",
       "       [1, 2, 0, 0, 3],\n",
       "       [1, 2, 0, 0, 3],\n",
       "       [1, 2, 0, 0, 2],\n",
       "       [1, 0, 0, 0, 3],\n",
       "       [1, 2, 4, 1, 3],\n",
       "       [1, 2, 0, 0, 3],\n",
       "       [1, 2, 1, 0, 1],\n",
       "       [1, 2, 5, 2, 3],\n",
       "       [0, 2, 1, 0, 1],\n",
       "       [0, 0, 1, 0, 1],\n",
       "       [1, 2, 1, 2, 1],\n",
       "       [0, 0, 0, 0, 1],\n",
       "       [1, 2, 0, 0, 3],\n",
       "       [1, 2, 1, 1, 3],\n",
       "       [1, 2, 0, 0, 2],\n",
       "       [1, 2, 0, 0, 2],\n",
       "       [1, 2, 0, 0, 1],\n",
       "       [0, 1, 0, 0, 2],\n",
       "       [0, 0, 1, 0, 1],\n",
       "       [1, 2, 0, 0, 3],\n",
       "       [1, 2, 0, 0, 1],\n",
       "       [1, 0, 0, 1, 1],\n",
       "       [1, 2, 0, 0, 3],\n",
       "       [1, 2, 0, 0, 3],\n",
       "       [1, 2, 2, 0, 3],\n",
       "       [1, 2, 0, 0, 3],\n",
       "       [0, 0, 1, 0, 1],\n",
       "       [0, 0, 1, 0, 1],\n",
       "       [0, 2, 1, 0, 3],\n",
       "       [1, 2, 0, 0, 3],\n",
       "       [1, 2, 4, 2, 3],\n",
       "       [1, 0, 0, 0, 3],\n",
       "       [1, 2, 0, 0, 3],\n",
       "       [1, 2, 0, 0, 2],\n",
       "       [0, 0, 0, 2, 3],\n",
       "       [1, 0, 0, 0, 3],\n",
       "       [1, 2, 0, 0, 1],\n",
       "       [1, 2, 0, 0, 3],\n",
       "       [0, 2, 0, 0, 3],\n",
       "       [1, 0, 0, 0, 2],\n",
       "       [1, 2, 0, 0, 2],\n",
       "       [1, 2, 4, 2, 3],\n",
       "       [1, 0, 0, 1, 1],\n",
       "       [1, 2, 0, 0, 3],\n",
       "       [0, 0, 0, 0, 1],\n",
       "       [0, 2, 0, 0, 1],\n",
       "       [1, 2, 0, 0, 3],\n",
       "       [0, 2, 2, 1, 2],\n",
       "       [1, 2, 4, 1, 3],\n",
       "       [1, 0, 0, 2, 1],\n",
       "       [1, 2, 0, 0, 1],\n",
       "       [0, 0, 0, 0, 3],\n",
       "       [1, 1, 0, 0, 3],\n",
       "       [1, 2, 1, 0, 1],\n",
       "       [1, 2, 0, 0, 3],\n",
       "       [1, 0, 0, 0, 3],\n",
       "       [1, 2, 0, 0, 3],\n",
       "       [0, 2, 0, 0, 2],\n",
       "       [1, 2, 0, 2, 2],\n",
       "       [1, 2, 1, 0, 1],\n",
       "       [0, 2, 0, 2, 1],\n",
       "       [1, 2, 0, 0, 3],\n",
       "       [1, 2, 0, 0, 3],\n",
       "       [1, 2, 1, 0, 2],\n",
       "       [1, 2, 0, 0, 1],\n",
       "       [1, 2, 1, 0, 2],\n",
       "       [1, 2, 0, 0, 3],\n",
       "       [1, 2, 1, 0, 1],\n",
       "       [1, 2, 0, 0, 3],\n",
       "       [1, 2, 0, 0, 3],\n",
       "       [1, 2, 0, 0, 1],\n",
       "       [1, 1, 0, 0, 3],\n",
       "       [1, 2, 0, 0, 2],\n",
       "       [1, 2, 1, 0, 2],\n",
       "       [0, 2, 1, 6, 3],\n",
       "       [1, 2, 0, 0, 1],\n",
       "       [0, 1, 0, 0, 3],\n",
       "       [1, 2, 0, 0, 3],\n",
       "       [0, 0, 0, 1, 1],\n",
       "       [1, 2, 0, 0, 3],\n",
       "       [1, 2, 0, 0, 3],\n",
       "       [0, 2, 3, 0, 2]], dtype=int64)"
      ]
     },
     "execution_count": 30,
     "metadata": {},
     "output_type": "execute_result"
    }
   ],
   "source": [
    "x_test_encd = np.c_[x_test_encd, x_test['SibSp']]\n",
    "x_test_encd = np.c_[x_test_encd, x_test['Parch']]\n",
    "x_test_encd = np.c_[x_test_encd, x_test['Pclass']]\n",
    "x_test_encd"
   ]
  },
  {
   "cell_type": "code",
   "execution_count": 31,
   "id": "2b9e0b2a",
   "metadata": {
    "execution": {
     "iopub.execute_input": "2022-08-15T18:48:22.775398Z",
     "iopub.status.busy": "2022-08-15T18:48:22.774611Z",
     "iopub.status.idle": "2022-08-15T18:48:22.779763Z",
     "shell.execute_reply": "2022-08-15T18:48:22.778835Z"
    },
    "papermill": {
     "duration": 0.028333,
     "end_time": "2022-08-15T18:48:22.782211",
     "exception": false,
     "start_time": "2022-08-15T18:48:22.753878",
     "status": "completed"
    },
    "tags": []
   },
   "outputs": [],
   "source": [
    "x_train_final,  x_test_final= np.c_[x_train_sc, x_train_encd], np.c_[x_test_sc, x_test_encd]"
   ]
  },
  {
   "cell_type": "code",
   "execution_count": 32,
   "id": "009dcf08",
   "metadata": {
    "execution": {
     "iopub.execute_input": "2022-08-15T18:48:22.822642Z",
     "iopub.status.busy": "2022-08-15T18:48:22.821893Z",
     "iopub.status.idle": "2022-08-15T18:48:22.829685Z",
     "shell.execute_reply": "2022-08-15T18:48:22.828652Z"
    },
    "papermill": {
     "duration": 0.030499,
     "end_time": "2022-08-15T18:48:22.832188",
     "exception": false,
     "start_time": "2022-08-15T18:48:22.801689",
     "status": "completed"
    },
    "tags": []
   },
   "outputs": [
    {
     "data": {
      "text/plain": [
       "array([ 1.44168846, -0.12277488,  0.        ,  2.        ,  0.        ,\n",
       "        0.        ,  1.        ])"
      ]
     },
     "execution_count": 32,
     "metadata": {},
     "output_type": "execute_result"
    }
   ],
   "source": [
    "x_train_final[0]"
   ]
  },
  {
   "cell_type": "code",
   "execution_count": 33,
   "id": "365ad284",
   "metadata": {
    "execution": {
     "iopub.execute_input": "2022-08-15T18:48:22.873090Z",
     "iopub.status.busy": "2022-08-15T18:48:22.872247Z",
     "iopub.status.idle": "2022-08-15T18:48:22.880284Z",
     "shell.execute_reply": "2022-08-15T18:48:22.879210Z"
    },
    "papermill": {
     "duration": 0.031274,
     "end_time": "2022-08-15T18:48:22.882688",
     "exception": false,
     "start_time": "2022-08-15T18:48:22.851414",
     "status": "completed"
    },
    "tags": []
   },
   "outputs": [
    {
     "data": {
      "text/plain": [
       "array([-2.2163014 , -0.40934819,  0.        ,  2.        ,  1.        ,\n",
       "        1.        ,  3.        ])"
      ]
     },
     "execution_count": 33,
     "metadata": {},
     "output_type": "execute_result"
    }
   ],
   "source": [
    "x_test_final[0]"
   ]
  },
  {
   "cell_type": "code",
   "execution_count": 34,
   "id": "822da922",
   "metadata": {
    "execution": {
     "iopub.execute_input": "2022-08-15T18:48:22.922535Z",
     "iopub.status.busy": "2022-08-15T18:48:22.921722Z",
     "iopub.status.idle": "2022-08-15T18:48:22.933002Z",
     "shell.execute_reply": "2022-08-15T18:48:22.931877Z"
    },
    "papermill": {
     "duration": 0.033946,
     "end_time": "2022-08-15T18:48:22.935431",
     "exception": false,
     "start_time": "2022-08-15T18:48:22.901485",
     "status": "completed"
    },
    "tags": []
   },
   "outputs": [
    {
     "data": {
      "text/plain": [
       "(0.3838383838383838, 0.6161616161616161)"
      ]
     },
     "execution_count": 34,
     "metadata": {},
     "output_type": "execute_result"
    }
   ],
   "source": [
    "s_0, s_1 = len(df_titanic[df_titanic['Survived'] == 0]), len(df_titanic[df_titanic['Survived'] == 1])\n",
    "s_0, s_1\n",
    "\n",
    "w_0, w_1 = s_0/(s_0 + s_1), s_1/(s_0 + s_1)\n",
    "w_0, w_1\n",
    "\n",
    "w_0, w_1 = w_1, w_0 \n",
    "w_0, w_1"
   ]
  },
  {
   "cell_type": "code",
   "execution_count": 35,
   "id": "8cd23995",
   "metadata": {},
   "outputs": [],
   "source": [
    "PassengerId = df_titanic_test['PassengerId']"
   ]
  },
  {
   "cell_type": "code",
   "execution_count": 36,
   "id": "ac8fe3f3",
   "metadata": {
    "execution": {
     "iopub.execute_input": "2022-08-15T18:48:22.976333Z",
     "iopub.status.busy": "2022-08-15T18:48:22.975914Z",
     "iopub.status.idle": "2022-08-15T18:48:22.981605Z",
     "shell.execute_reply": "2022-08-15T18:48:22.980743Z"
    },
    "papermill": {
     "duration": 0.028544,
     "end_time": "2022-08-15T18:48:22.983738",
     "exception": false,
     "start_time": "2022-08-15T18:48:22.955194",
     "status": "completed"
    },
    "tags": []
   },
   "outputs": [],
   "source": [
    "## Test dataset\n",
    "\n",
    "df_titanic_test = df_titanic_test.drop(['Survived', 'PassengerId', 'Cabin', 'Name', 'Ticket'], axis=1)"
   ]
  },
  {
   "cell_type": "code",
   "execution_count": 37,
   "id": "d694b752",
   "metadata": {
    "execution": {
     "iopub.execute_input": "2022-08-15T18:48:23.024290Z",
     "iopub.status.busy": "2022-08-15T18:48:23.023571Z",
     "iopub.status.idle": "2022-08-15T18:48:23.033669Z",
     "shell.execute_reply": "2022-08-15T18:48:23.032835Z"
    },
    "papermill": {
     "duration": 0.03275,
     "end_time": "2022-08-15T18:48:23.035787",
     "exception": false,
     "start_time": "2022-08-15T18:48:23.003037",
     "status": "completed"
    },
    "tags": []
   },
   "outputs": [
    {
     "data": {
      "text/plain": [
       "(['Age', 'Fare'], ['Sex', 'Embarked'])"
      ]
     },
     "execution_count": 37,
     "metadata": {},
     "output_type": "execute_result"
    }
   ],
   "source": [
    "# numerical and category for train dataset\n",
    "numerical_cols=[col for col in df_titanic_test.columns if df_titanic_test[col].dtype in ['float64', 'float32', 'int64', 'int32']]\n",
    "category_cols=[col for col in df_titanic_test.columns if df_titanic_test[col].dtype not in ['float64', 'float32', 'int64', 'int32']]\n",
    "\n",
    "numerical_cols.remove('Pclass')\n",
    "numerical_cols.remove('SibSp')\n",
    "numerical_cols.remove('Parch')\n",
    "\n",
    "numerical_cols, category_cols"
   ]
  },
  {
   "cell_type": "markdown",
   "id": "307f71d9",
   "metadata": {
    "papermill": {
     "duration": 0.019709,
     "end_time": "2022-08-15T18:48:23.076113",
     "exception": false,
     "start_time": "2022-08-15T18:48:23.056404",
     "status": "completed"
    },
    "tags": []
   },
   "source": [
    "## standardization and labelling for train and test for train dataset"
   ]
  },
  {
   "cell_type": "code",
   "execution_count": 38,
   "id": "e42bb299",
   "metadata": {
    "execution": {
     "iopub.execute_input": "2022-08-15T18:48:23.117306Z",
     "iopub.status.busy": "2022-08-15T18:48:23.115757Z",
     "iopub.status.idle": "2022-08-15T18:48:23.135085Z",
     "shell.execute_reply": "2022-08-15T18:48:23.134038Z"
    },
    "papermill": {
     "duration": 0.042476,
     "end_time": "2022-08-15T18:48:23.137891",
     "exception": false,
     "start_time": "2022-08-15T18:48:23.095415",
     "status": "completed"
    },
    "tags": []
   },
   "outputs": [],
   "source": [
    "# impute nulls \n",
    "imputer_test = SimpleImputer(strategy='median')\n",
    "x_tstdst_im = imputer_test.fit_transform(df_titanic_test[numerical_cols])\n",
    "\n",
    "# standardization\n",
    "scalar_test = StandardScaler()\n",
    "x_tstdst_sc= scalar_test.fit_transform(x_tstdst_im)\n",
    "\n",
    "# Label encoding\n",
    "imputer_catg_test = SimpleImputer(strategy='constant', fill_value=df_titanic['Sex'].mode())\n",
    "x_tstdst_imput_0 = imputer_catg_test.fit_transform(df_titanic_test[category_cols].values[:, 0].reshape(-1,1))\n",
    "\n",
    "x_tstdst_imput_0 = x_tstdst_imput_0.ravel()\n",
    "\n",
    "lbencd_test = LabelEncoder()\n",
    "x_tstdst_encd_0 = lbencd_test.fit_transform(x_tstdst_imput_0)\n",
    "\n",
    "imputer_catg_test = SimpleImputer(strategy='constant', fill_value=df_titanic_test['Embarked'].mode())\n",
    "x_tstdst_imput_1 = imputer_catg_test.fit_transform(df_titanic_test[category_cols].values[:, 1].reshape(-1,1))\n",
    "\n",
    "x_tstdst_imput_1 = x_tstdst_imput_1.ravel()\n",
    "\n",
    "lbencd_test = LabelEncoder()\n",
    "x_tstdst_encd_1 = lbencd_test.fit_transform(x_tstdst_imput_1)"
   ]
  },
  {
   "cell_type": "code",
   "execution_count": 39,
   "id": "2cbf59f3",
   "metadata": {
    "execution": {
     "iopub.execute_input": "2022-08-15T18:48:23.178774Z",
     "iopub.status.busy": "2022-08-15T18:48:23.178371Z",
     "iopub.status.idle": "2022-08-15T18:48:23.189219Z",
     "shell.execute_reply": "2022-08-15T18:48:23.188022Z"
    },
    "papermill": {
     "duration": 0.033911,
     "end_time": "2022-08-15T18:48:23.191672",
     "exception": false,
     "start_time": "2022-08-15T18:48:23.157761",
     "status": "completed"
    },
    "tags": []
   },
   "outputs": [
    {
     "data": {
      "text/plain": [
       "array([[1, 1, 0, 0, 3],\n",
       "       [0, 2, 1, 0, 3],\n",
       "       [1, 1, 0, 0, 2],\n",
       "       ...,\n",
       "       [1, 2, 0, 0, 3],\n",
       "       [1, 2, 0, 0, 3],\n",
       "       [1, 0, 1, 1, 3]], dtype=int64)"
      ]
     },
     "execution_count": 39,
     "metadata": {},
     "output_type": "execute_result"
    }
   ],
   "source": [
    "x_tstdst_encd = np.c_[x_tstdst_encd_0, x_tstdst_encd_1]\n",
    "\n",
    "x_tstdst_encd = np.c_[x_tstdst_encd, df_titanic_test['SibSp']]\n",
    "x_tstdst_encd = np.c_[x_tstdst_encd, df_titanic_test['Parch']]\n",
    "x_tstdst_encd = np.c_[x_tstdst_encd, df_titanic_test['Pclass']]\n",
    "x_tstdst_encd"
   ]
  },
  {
   "cell_type": "code",
   "execution_count": 40,
   "id": "d9d6b7ef",
   "metadata": {
    "execution": {
     "iopub.execute_input": "2022-08-15T18:48:23.231663Z",
     "iopub.status.busy": "2022-08-15T18:48:23.231253Z",
     "iopub.status.idle": "2022-08-15T18:48:23.237263Z",
     "shell.execute_reply": "2022-08-15T18:48:23.236108Z"
    },
    "papermill": {
     "duration": 0.028963,
     "end_time": "2022-08-15T18:48:23.239698",
     "exception": false,
     "start_time": "2022-08-15T18:48:23.210735",
     "status": "completed"
    },
    "tags": []
   },
   "outputs": [
    {
     "data": {
      "text/plain": [
       "(418, 7)"
      ]
     },
     "execution_count": 40,
     "metadata": {},
     "output_type": "execute_result"
    }
   ],
   "source": [
    "x_tstdst_final = np.c_[x_tstdst_sc, x_tstdst_encd]\n",
    "x_tstdst_final.shape"
   ]
  },
  {
   "cell_type": "markdown",
   "id": "97e41c8c",
   "metadata": {
    "papermill": {
     "duration": 0.019307,
     "end_time": "2022-08-15T18:48:23.278002",
     "exception": false,
     "start_time": "2022-08-15T18:48:23.258695",
     "status": "completed"
    },
    "tags": []
   },
   "source": [
    "## RandomForestClassifier Model"
   ]
  },
  {
   "cell_type": "code",
   "execution_count": 41,
   "id": "d7e85a4e",
   "metadata": {
    "execution": {
     "iopub.execute_input": "2022-08-15T18:48:23.318377Z",
     "iopub.status.busy": "2022-08-15T18:48:23.317940Z",
     "iopub.status.idle": "2022-08-15T18:48:23.454737Z",
     "shell.execute_reply": "2022-08-15T18:48:23.453461Z"
    },
    "papermill": {
     "duration": 0.160693,
     "end_time": "2022-08-15T18:48:23.457750",
     "exception": false,
     "start_time": "2022-08-15T18:48:23.297057",
     "status": "completed"
    },
    "tags": []
   },
   "outputs": [
    {
     "data": {
      "text/html": [
       "<style>#sk-container-id-1 {color: black;background-color: white;}#sk-container-id-1 pre{padding: 0;}#sk-container-id-1 div.sk-toggleable {background-color: white;}#sk-container-id-1 label.sk-toggleable__label {cursor: pointer;display: block;width: 100%;margin-bottom: 0;padding: 0.3em;box-sizing: border-box;text-align: center;}#sk-container-id-1 label.sk-toggleable__label-arrow:before {content: \"▸\";float: left;margin-right: 0.25em;color: #696969;}#sk-container-id-1 label.sk-toggleable__label-arrow:hover:before {color: black;}#sk-container-id-1 div.sk-estimator:hover label.sk-toggleable__label-arrow:before {color: black;}#sk-container-id-1 div.sk-toggleable__content {max-height: 0;max-width: 0;overflow: hidden;text-align: left;background-color: #f0f8ff;}#sk-container-id-1 div.sk-toggleable__content pre {margin: 0.2em;color: black;border-radius: 0.25em;background-color: #f0f8ff;}#sk-container-id-1 input.sk-toggleable__control:checked~div.sk-toggleable__content {max-height: 200px;max-width: 100%;overflow: auto;}#sk-container-id-1 input.sk-toggleable__control:checked~label.sk-toggleable__label-arrow:before {content: \"▾\";}#sk-container-id-1 div.sk-estimator input.sk-toggleable__control:checked~label.sk-toggleable__label {background-color: #d4ebff;}#sk-container-id-1 div.sk-label input.sk-toggleable__control:checked~label.sk-toggleable__label {background-color: #d4ebff;}#sk-container-id-1 input.sk-hidden--visually {border: 0;clip: rect(1px 1px 1px 1px);clip: rect(1px, 1px, 1px, 1px);height: 1px;margin: -1px;overflow: hidden;padding: 0;position: absolute;width: 1px;}#sk-container-id-1 div.sk-estimator {font-family: monospace;background-color: #f0f8ff;border: 1px dotted black;border-radius: 0.25em;box-sizing: border-box;margin-bottom: 0.5em;}#sk-container-id-1 div.sk-estimator:hover {background-color: #d4ebff;}#sk-container-id-1 div.sk-parallel-item::after {content: \"\";width: 100%;border-bottom: 1px solid gray;flex-grow: 1;}#sk-container-id-1 div.sk-label:hover label.sk-toggleable__label {background-color: #d4ebff;}#sk-container-id-1 div.sk-serial::before {content: \"\";position: absolute;border-left: 1px solid gray;box-sizing: border-box;top: 0;bottom: 0;left: 50%;z-index: 0;}#sk-container-id-1 div.sk-serial {display: flex;flex-direction: column;align-items: center;background-color: white;padding-right: 0.2em;padding-left: 0.2em;position: relative;}#sk-container-id-1 div.sk-item {position: relative;z-index: 1;}#sk-container-id-1 div.sk-parallel {display: flex;align-items: stretch;justify-content: center;background-color: white;position: relative;}#sk-container-id-1 div.sk-item::before, #sk-container-id-1 div.sk-parallel-item::before {content: \"\";position: absolute;border-left: 1px solid gray;box-sizing: border-box;top: 0;bottom: 0;left: 50%;z-index: -1;}#sk-container-id-1 div.sk-parallel-item {display: flex;flex-direction: column;z-index: 1;position: relative;background-color: white;}#sk-container-id-1 div.sk-parallel-item:first-child::after {align-self: flex-end;width: 50%;}#sk-container-id-1 div.sk-parallel-item:last-child::after {align-self: flex-start;width: 50%;}#sk-container-id-1 div.sk-parallel-item:only-child::after {width: 0;}#sk-container-id-1 div.sk-dashed-wrapped {border: 1px dashed gray;margin: 0 0.4em 0.5em 0.4em;box-sizing: border-box;padding-bottom: 0.4em;background-color: white;}#sk-container-id-1 div.sk-label label {font-family: monospace;font-weight: bold;display: inline-block;line-height: 1.2em;}#sk-container-id-1 div.sk-label-container {text-align: center;}#sk-container-id-1 div.sk-container {/* jupyter's `normalize.less` sets `[hidden] { display: none; }` but bootstrap.min.css set `[hidden] { display: none !important; }` so we also need the `!important` here to be able to override the default hidden behavior on the sphinx rendered scikit-learn.org. See: https://github.com/scikit-learn/scikit-learn/issues/21755 */display: inline-block !important;position: relative;}#sk-container-id-1 div.sk-text-repr-fallback {display: none;}</style><div id=\"sk-container-id-1\" class=\"sk-top-container\"><div class=\"sk-text-repr-fallback\"><pre>RandomForestClassifier(class_weight={0: 0.3838383838383838,\n",
       "                                     1: 0.6161616161616161},\n",
       "                       max_depth=9, n_estimators=67, random_state=42)</pre><b>In a Jupyter environment, please rerun this cell to show the HTML representation or trust the notebook. <br />On GitHub, the HTML representation is unable to render, please try loading this page with nbviewer.org.</b></div><div class=\"sk-container\" hidden><div class=\"sk-item\"><div class=\"sk-estimator sk-toggleable\"><input class=\"sk-toggleable__control sk-hidden--visually\" id=\"sk-estimator-id-1\" type=\"checkbox\" checked><label for=\"sk-estimator-id-1\" class=\"sk-toggleable__label sk-toggleable__label-arrow\">RandomForestClassifier</label><div class=\"sk-toggleable__content\"><pre>RandomForestClassifier(class_weight={0: 0.3838383838383838,\n",
       "                                     1: 0.6161616161616161},\n",
       "                       max_depth=9, n_estimators=67, random_state=42)</pre></div></div></div></div></div>"
      ],
      "text/plain": [
       "RandomForestClassifier(class_weight={0: 0.3838383838383838,\n",
       "                                     1: 0.6161616161616161},\n",
       "                       max_depth=9, n_estimators=67, random_state=42)"
      ]
     },
     "execution_count": 41,
     "metadata": {},
     "output_type": "execute_result"
    }
   ],
   "source": [
    "rand_frt_clf=RandomForestClassifier(n_estimators=67, max_depth=9, \n",
    "                                    class_weight={0:w_0, 1:w_1}, random_state=42)\n",
    "rand_frt_clf.fit(x_train_final,y_train)"
   ]
  },
  {
   "cell_type": "code",
   "execution_count": 42,
   "id": "0f11901a",
   "metadata": {
    "execution": {
     "iopub.execute_input": "2022-08-15T18:48:23.498462Z",
     "iopub.status.busy": "2022-08-15T18:48:23.498052Z",
     "iopub.status.idle": "2022-08-15T18:48:24.142426Z",
     "shell.execute_reply": "2022-08-15T18:48:24.141211Z"
    },
    "papermill": {
     "duration": 0.667557,
     "end_time": "2022-08-15T18:48:24.145028",
     "exception": false,
     "start_time": "2022-08-15T18:48:23.477471",
     "status": "completed"
    },
    "tags": []
   },
   "outputs": [
    {
     "data": {
      "text/plain": [
       "array([0.85526316, 0.80263158, 0.78807947, 0.84768212, 0.82119205])"
      ]
     },
     "execution_count": 42,
     "metadata": {},
     "output_type": "execute_result"
    }
   ],
   "source": [
    "y_rand_frt_clf_score = cross_val_score(estimator=rand_frt_clf, X=x_train_final, y=y_train, cv=5, scoring='accuracy')\n",
    "y_rand_frt_clf_score"
   ]
  },
  {
   "cell_type": "code",
   "execution_count": 43,
   "id": "483ffaba",
   "metadata": {
    "execution": {
     "iopub.execute_input": "2022-08-15T18:48:24.185998Z",
     "iopub.status.busy": "2022-08-15T18:48:24.185526Z",
     "iopub.status.idle": "2022-08-15T18:48:24.191951Z",
     "shell.execute_reply": "2022-08-15T18:48:24.190682Z"
    },
    "papermill": {
     "duration": 0.030219,
     "end_time": "2022-08-15T18:48:24.195091",
     "exception": false,
     "start_time": "2022-08-15T18:48:24.164872",
     "status": "completed"
    },
    "tags": []
   },
   "outputs": [
    {
     "name": "stdout",
     "output_type": "stream",
     "text": [
      "0.8229696758452422\n",
      "0.025642536607139995\n"
     ]
    }
   ],
   "source": [
    "print(y_rand_frt_clf_score.mean())\n",
    "print(y_rand_frt_clf_score.std())"
   ]
  },
  {
   "cell_type": "code",
   "execution_count": 44,
   "id": "ca7af0e8",
   "metadata": {
    "execution": {
     "iopub.execute_input": "2022-08-15T18:48:24.236689Z",
     "iopub.status.busy": "2022-08-15T18:48:24.236286Z",
     "iopub.status.idle": "2022-08-15T18:48:24.890295Z",
     "shell.execute_reply": "2022-08-15T18:48:24.888889Z"
    },
    "papermill": {
     "duration": 0.677507,
     "end_time": "2022-08-15T18:48:24.893057",
     "exception": false,
     "start_time": "2022-08-15T18:48:24.215550",
     "status": "completed"
    },
    "tags": []
   },
   "outputs": [
    {
     "data": {
      "text/plain": [
       "array([1, 0, 1, 0, 0, 1, 0, 1, 0, 1, 1, 0, 0, 1, 0, 1, 1, 0, 1, 0, 1, 0,\n",
       "       1, 1, 1, 1, 1, 0, 1, 1, 0, 1, 1, 0, 1, 0, 0, 1, 0, 0, 0, 0, 1, 0,\n",
       "       0, 1, 0, 0, 0, 0, 0, 1, 0, 1, 0, 1, 0, 0, 1, 0, 1, 0, 0, 1, 1, 0,\n",
       "       1, 1, 0, 0, 0, 0, 0, 1, 0, 0, 0, 1, 0, 0, 0, 0, 0, 0, 1, 0, 0, 0,\n",
       "       0, 0, 1, 0, 0, 0, 0, 1, 1, 0, 1, 0, 0, 0, 1, 0, 1, 0, 0, 0, 1, 0,\n",
       "       0, 0, 0, 0, 1, 0, 0, 0, 0, 0, 0, 1, 0, 0, 1, 1, 0, 0, 0, 0, 0, 1,\n",
       "       0, 1, 1, 1, 1, 0, 0, 1, 0, 1, 1, 1, 0, 0, 1, 0, 0, 1, 0, 1, 0, 0,\n",
       "       0, 1, 1, 1, 0, 0, 1, 1, 0, 0, 0, 1, 1, 0, 0, 1, 1, 0, 0, 0, 0, 0,\n",
       "       0, 0, 0, 0, 0, 0, 0, 1, 0, 1, 1, 0, 1, 0, 0, 0, 0, 0, 0, 1, 0, 0,\n",
       "       1, 0, 1, 1, 0, 1, 1, 0, 1, 0, 0, 0, 1, 0, 0, 1, 0, 0, 0, 0, 0, 1,\n",
       "       0, 1, 0, 0, 0, 1, 1, 0, 1, 0, 0, 0, 1, 0, 0, 0, 0, 0, 0, 1, 0, 0,\n",
       "       1, 1, 0, 0, 1, 0, 0, 1, 1, 0, 0, 1, 0, 0, 1, 0, 1, 1, 1, 1, 0, 0,\n",
       "       0, 0, 1, 0, 1, 0, 0, 1, 0, 0, 0, 0, 0, 1, 1, 0, 1, 1, 0, 0, 0, 0,\n",
       "       0, 0, 0, 1, 1, 0, 1, 1, 1, 0, 0, 1, 1, 0, 0, 1, 0, 0, 1, 0, 0, 0,\n",
       "       0, 0, 0, 1, 0, 1, 0, 0, 0, 0, 1, 0, 1, 0, 1, 0, 0, 0, 1, 0, 1, 0,\n",
       "       0, 0, 0, 0, 0, 0, 1, 0, 1, 0, 0, 0, 0, 1, 1, 1, 0, 1, 1, 1, 0, 1,\n",
       "       0, 1, 0, 0, 0, 0, 0, 0, 0, 1, 0, 1, 0, 0, 0, 0, 1, 0, 1, 0, 0, 0,\n",
       "       0, 1, 1, 0, 0, 0, 1, 1, 0, 0, 0, 1, 1, 0, 0, 0, 0, 1, 0, 1, 0, 0,\n",
       "       0, 0, 1, 0, 0, 0, 0, 0, 0, 0, 0, 0, 0, 1, 0, 0, 1, 0, 1, 0, 0, 0,\n",
       "       1, 0, 1, 1, 0, 1, 0, 0, 1, 0, 0, 1, 1, 1, 1, 0, 0, 0, 1, 0, 0, 0,\n",
       "       0, 0, 1, 0, 1, 0, 0, 0, 0, 0, 0, 0, 0, 0, 0, 0, 0, 1, 1, 0, 1, 0,\n",
       "       1, 1, 1, 0, 0, 0, 0, 1, 1, 0, 0, 0, 0, 0, 1, 0, 0, 0, 0, 1, 0, 0,\n",
       "       1, 1, 1, 0, 0, 0, 0, 0, 0, 0, 1, 0, 1, 1, 0, 1, 1, 0, 0, 1, 0, 0,\n",
       "       0, 1, 0, 0, 0, 1, 0, 0, 0, 0, 0, 0, 1, 0, 0, 1, 1, 0, 0, 0, 0, 0,\n",
       "       1, 0, 1, 1, 0, 1, 0, 0, 1, 0, 0, 1, 1, 1, 0, 0, 1, 1, 1, 1, 1, 0,\n",
       "       0, 1, 1, 0, 0, 0, 1, 0, 0, 0, 0, 0, 0, 0, 1, 0, 0, 0, 0, 0, 0, 0,\n",
       "       0, 0, 0, 0, 1, 0, 1, 0, 0, 0, 0, 0, 0, 1, 0, 0, 1, 0, 0, 0, 1, 0,\n",
       "       0, 0, 0, 0, 0, 1, 1, 0, 0, 1, 0, 1, 1, 1, 0, 0, 0, 1, 0, 0, 1, 0,\n",
       "       1, 1, 1, 0, 1, 0, 1, 1, 0, 1, 0, 0, 1, 1, 0, 1, 0, 0, 1, 0, 1, 0,\n",
       "       0, 1, 1, 0, 0, 1, 0, 1, 1, 0, 1, 0, 0, 1, 0, 1, 1, 1, 0, 1, 1, 1,\n",
       "       0, 0, 0, 0, 0, 1, 0, 0, 0, 1, 0, 1, 1, 1, 1, 1, 0, 1, 1, 0, 0, 1,\n",
       "       0, 1, 1, 0, 1, 0, 0, 1, 0, 0, 0, 1, 0, 0, 1, 0, 1, 0, 1, 1, 0, 1,\n",
       "       0, 0, 1, 0, 1, 0, 0, 0, 1, 0, 1, 0, 0, 0, 1, 1, 1, 1, 1, 1, 0, 0,\n",
       "       1, 0, 0, 1, 1, 0, 0, 0, 1, 0, 1, 0, 0, 1, 1, 0, 0, 0, 0, 0, 0, 1,\n",
       "       1, 0, 0, 1, 1, 1, 0, 0, 0], dtype=int64)"
      ]
     },
     "execution_count": 44,
     "metadata": {},
     "output_type": "execute_result"
    }
   ],
   "source": [
    "rand_frt_clf_Pred_train = cross_val_predict(estimator=rand_frt_clf, X=x_train_final, y=y_train, cv=5)\n",
    "rand_frt_clf_Pred_train"
   ]
  },
  {
   "cell_type": "code",
   "execution_count": 45,
   "id": "117d1232",
   "metadata": {
    "execution": {
     "iopub.execute_input": "2022-08-15T18:48:24.935372Z",
     "iopub.status.busy": "2022-08-15T18:48:24.934502Z",
     "iopub.status.idle": "2022-08-15T18:48:24.942133Z",
     "shell.execute_reply": "2022-08-15T18:48:24.941207Z"
    },
    "papermill": {
     "duration": 0.031371,
     "end_time": "2022-08-15T18:48:24.944580",
     "exception": false,
     "start_time": "2022-08-15T18:48:24.913209",
     "status": "completed"
    },
    "tags": []
   },
   "outputs": [
    {
     "data": {
      "text/plain": [
       "0.8229854689564069"
      ]
     },
     "execution_count": 45,
     "metadata": {},
     "output_type": "execute_result"
    }
   ],
   "source": [
    "accuracy_score(y_train, rand_frt_clf_Pred_train)"
   ]
  },
  {
   "cell_type": "code",
   "execution_count": 46,
   "id": "a2117c36",
   "metadata": {
    "execution": {
     "iopub.execute_input": "2022-08-15T18:48:24.986667Z",
     "iopub.status.busy": "2022-08-15T18:48:24.985942Z",
     "iopub.status.idle": "2022-08-15T18:48:24.993727Z",
     "shell.execute_reply": "2022-08-15T18:48:24.992322Z"
    },
    "papermill": {
     "duration": 0.032015,
     "end_time": "2022-08-15T18:48:24.996424",
     "exception": false,
     "start_time": "2022-08-15T18:48:24.964409",
     "status": "completed"
    },
    "tags": []
   },
   "outputs": [
    {
     "data": {
      "text/plain": [
       "array([[400,  58],\n",
       "       [ 76, 223]], dtype=int64)"
      ]
     },
     "execution_count": 46,
     "metadata": {},
     "output_type": "execute_result"
    }
   ],
   "source": [
    "confmx_rand_frt_clf = confusion_matrix(y_train, rand_frt_clf_Pred_train)\n",
    "confmx_rand_frt_clf"
   ]
  },
  {
   "cell_type": "code",
   "execution_count": 47,
   "id": "9f9daf8b",
   "metadata": {
    "execution": {
     "iopub.execute_input": "2022-08-15T18:48:25.040870Z",
     "iopub.status.busy": "2022-08-15T18:48:25.039642Z",
     "iopub.status.idle": "2022-08-15T18:48:25.286412Z",
     "shell.execute_reply": "2022-08-15T18:48:25.285201Z"
    },
    "papermill": {
     "duration": 0.271044,
     "end_time": "2022-08-15T18:48:25.288706",
     "exception": false,
     "start_time": "2022-08-15T18:48:25.017662",
     "status": "completed"
    },
    "tags": []
   },
   "outputs": [
    {
     "data": {
      "image/png": "[encoded data removed]",
      "text/plain": [
       "<Figure size 1000x600 with 2 Axes>"
      ]
     },
     "metadata": {},
     "output_type": "display_data"
    }
   ],
   "source": [
    "plt.figure(figsize=(10,6))\n",
    "sns.heatmap(confmx_rand_frt_clf, annot=True, cmap='Blues')\n",
    "plt.show()"
   ]
  },
  {
   "cell_type": "code",
   "execution_count": 48,
   "id": "1ff84fa3",
   "metadata": {
    "execution": {
     "iopub.execute_input": "2022-08-15T18:48:25.331403Z",
     "iopub.status.busy": "2022-08-15T18:48:25.330973Z",
     "iopub.status.idle": "2022-08-15T18:48:25.350124Z",
     "shell.execute_reply": "2022-08-15T18:48:25.349143Z"
    },
    "papermill": {
     "duration": 0.043778,
     "end_time": "2022-08-15T18:48:25.352548",
     "exception": false,
     "start_time": "2022-08-15T18:48:25.308770",
     "status": "completed"
    },
    "tags": []
   },
   "outputs": [
    {
     "data": {
      "text/plain": [
       "array([1, 0, 1, 0, 0, 0, 1, 1, 0, 1, 0, 1, 1, 0, 1, 1, 1, 0, 0, 0, 1, 1,\n",
       "       0, 0, 0, 0, 0, 1, 0, 0, 0, 1, 0, 1, 0, 1, 0, 0, 1, 0, 1, 1, 0, 0,\n",
       "       0, 0, 1, 1, 0, 1, 1, 0, 0, 0, 0, 0, 0, 0, 0, 0, 1, 1, 1, 1, 0, 0,\n",
       "       0, 0, 1, 1, 1, 0, 1, 0, 0, 0, 0, 0, 1, 1, 1, 0, 0, 0, 0, 0, 1, 0,\n",
       "       0, 0, 0, 0, 0, 0, 0, 0, 1, 1, 0, 1, 0, 0, 1, 1, 0, 1, 0, 0, 0, 1,\n",
       "       1, 1, 1, 0, 0, 0, 0, 0, 0, 1, 0, 0, 1, 0, 0, 0, 0, 0, 1, 0, 1, 0,\n",
       "       0, 1], dtype=int64)"
      ]
     },
     "execution_count": 48,
     "metadata": {},
     "output_type": "execute_result"
    }
   ],
   "source": [
    "## predict test dataset\n",
    "\n",
    "rand_frt_Pred_test = rand_frt_clf.predict(X=x_test_final)\n",
    "rand_frt_Pred_test"
   ]
  },
  {
   "cell_type": "code",
   "execution_count": 49,
   "id": "ba0cae5f",
   "metadata": {
    "execution": {
     "iopub.execute_input": "2022-08-15T18:48:25.396131Z",
     "iopub.status.busy": "2022-08-15T18:48:25.394830Z",
     "iopub.status.idle": "2022-08-15T18:48:25.404187Z",
     "shell.execute_reply": "2022-08-15T18:48:25.402808Z"
    },
    "papermill": {
     "duration": 0.034123,
     "end_time": "2022-08-15T18:48:25.407122",
     "exception": false,
     "start_time": "2022-08-15T18:48:25.372999",
     "status": "completed"
    },
    "tags": []
   },
   "outputs": [
    {
     "data": {
      "text/plain": [
       "0.8432835820895522"
      ]
     },
     "execution_count": 49,
     "metadata": {},
     "output_type": "execute_result"
    }
   ],
   "source": [
    "accuracy_score(y_test, rand_frt_Pred_test)"
   ]
  },
  {
   "cell_type": "code",
   "execution_count": 50,
   "id": "d5accf42",
   "metadata": {
    "execution": {
     "iopub.execute_input": "2022-08-15T18:48:25.451450Z",
     "iopub.status.busy": "2022-08-15T18:48:25.450626Z",
     "iopub.status.idle": "2022-08-15T18:48:25.459394Z",
     "shell.execute_reply": "2022-08-15T18:48:25.458008Z"
    },
    "papermill": {
     "duration": 0.033312,
     "end_time": "2022-08-15T18:48:25.461720",
     "exception": false,
     "start_time": "2022-08-15T18:48:25.428408",
     "status": "completed"
    },
    "tags": []
   },
   "outputs": [
    {
     "data": {
      "text/plain": [
       "array([[77, 14],\n",
       "       [ 7, 36]], dtype=int64)"
      ]
     },
     "execution_count": 50,
     "metadata": {},
     "output_type": "execute_result"
    }
   ],
   "source": [
    "confmx_rand_frt_clf_test = confusion_matrix(y_test, rand_frt_Pred_test)\n",
    "confmx_rand_frt_clf_test"
   ]
  },
  {
   "cell_type": "code",
   "execution_count": 51,
   "id": "0c1794e5",
   "metadata": {
    "execution": {
     "iopub.execute_input": "2022-08-15T18:48:25.505865Z",
     "iopub.status.busy": "2022-08-15T18:48:25.505095Z",
     "iopub.status.idle": "2022-08-15T18:48:25.754679Z",
     "shell.execute_reply": "2022-08-15T18:48:25.753785Z"
    },
    "papermill": {
     "duration": 0.27442,
     "end_time": "2022-08-15T18:48:25.757124",
     "exception": false,
     "start_time": "2022-08-15T18:48:25.482704",
     "status": "completed"
    },
    "tags": []
   },
   "outputs": [
    {
     "data": {
      "image/png": "[encoded data removed]",
      "text/plain": [
       "<Figure size 1000x600 with 2 Axes>"
      ]
     },
     "metadata": {},
     "output_type": "display_data"
    }
   ],
   "source": [
    "plt.figure(figsize=(10,6))\n",
    "sns.heatmap(confmx_rand_frt_clf_test, annot=True, cmap='Blues')\n",
    "plt.show()"
   ]
  },
  {
   "cell_type": "markdown",
   "id": "923b8e25",
   "metadata": {
    "papermill": {
     "duration": 0.020382,
     "end_time": "2022-08-15T18:48:25.798389",
     "exception": false,
     "start_time": "2022-08-15T18:48:25.778007",
     "status": "completed"
    },
    "tags": []
   },
   "source": [
    "## Predict Test dataset from Kaggle"
   ]
  },
  {
   "cell_type": "code",
   "execution_count": 52,
   "id": "8aabafde",
   "metadata": {
    "execution": {
     "iopub.execute_input": "2022-08-15T18:48:25.842442Z",
     "iopub.status.busy": "2022-08-15T18:48:25.841523Z",
     "iopub.status.idle": "2022-08-15T18:48:25.865396Z",
     "shell.execute_reply": "2022-08-15T18:48:25.864241Z"
    },
    "papermill": {
     "duration": 0.048413,
     "end_time": "2022-08-15T18:48:25.867879",
     "exception": false,
     "start_time": "2022-08-15T18:48:25.819466",
     "status": "completed"
    },
    "tags": []
   },
   "outputs": [
    {
     "data": {
      "text/plain": [
       "array([0, 0, 0, 0, 0, 0, 0, 0, 1, 0, 0, 0, 1, 0, 1, 1, 0, 0, 0, 0, 1, 1,\n",
       "       1, 1, 1, 0, 1, 0, 1, 1, 0, 0, 1, 1, 1, 0, 1, 1, 0, 0, 0, 0, 0, 1,\n",
       "       1, 0, 1, 0, 1, 1, 1, 0, 1, 1, 0, 0, 0, 0, 0, 1, 0, 0, 0, 0, 1, 1,\n",
       "       0, 0, 0, 1, 0, 0, 0, 0, 1, 0, 0, 1, 0, 0, 1, 0, 0, 0, 0, 0, 0, 1,\n",
       "       0, 1, 1, 0, 1, 0, 0, 0, 1, 0, 1, 0, 1, 0, 0, 0, 1, 0, 0, 0, 0, 0,\n",
       "       0, 0, 1, 0, 1, 1, 0, 1, 0, 1, 1, 0, 1, 0, 0, 1, 0, 1, 0, 0, 0, 0,\n",
       "       1, 0, 0, 0, 0, 0, 1, 0, 0, 1, 0, 0, 0, 0, 0, 0, 0, 0, 1, 0, 0, 1,\n",
       "       0, 0, 1, 1, 0, 1, 0, 1, 1, 0, 0, 1, 0, 0, 1, 1, 0, 0, 0, 0, 0, 1,\n",
       "       1, 1, 1, 1, 0, 1, 1, 0, 1, 0, 1, 0, 0, 0, 0, 0, 1, 0, 1, 0, 1, 1,\n",
       "       0, 1, 1, 1, 0, 1, 0, 0, 0, 0, 1, 0, 0, 0, 0, 1, 0, 0, 0, 0, 1, 0,\n",
       "       1, 0, 1, 0, 1, 1, 0, 0, 0, 0, 0, 1, 0, 0, 1, 0, 1, 0, 1, 1, 1, 1,\n",
       "       0, 0, 0, 1, 1, 0, 1, 1, 1, 0, 0, 0, 0, 0, 0, 0, 1, 0, 0, 0, 1, 1,\n",
       "       0, 0, 0, 0, 1, 0, 0, 0, 1, 1, 0, 1, 0, 0, 0, 0, 1, 1, 0, 0, 1, 0,\n",
       "       0, 0, 0, 0, 1, 0, 0, 0, 0, 0, 1, 1, 0, 0, 0, 0, 0, 0, 0, 1, 1, 1,\n",
       "       0, 0, 0, 0, 0, 0, 1, 0, 0, 0, 0, 0, 0, 0, 0, 0, 1, 0, 1, 0, 0, 0,\n",
       "       1, 1, 0, 1, 0, 0, 0, 0, 0, 0, 0, 0, 0, 1, 0, 1, 0, 0, 0, 1, 1, 0,\n",
       "       0, 0, 1, 0, 1, 0, 0, 1, 0, 1, 1, 0, 1, 0, 0, 0, 1, 0, 0, 1, 0, 0,\n",
       "       1, 1, 1, 0, 0, 0, 0, 0, 1, 0, 0, 1, 0, 0, 0, 0, 0, 1, 1, 0, 0, 1,\n",
       "       0, 1, 0, 0, 1, 0, 1, 0, 0, 0, 0, 0, 0, 1, 0, 1, 0, 0, 1, 0, 0, 1],\n",
       "      dtype=int64)"
      ]
     },
     "execution_count": 52,
     "metadata": {},
     "output_type": "execute_result"
    }
   ],
   "source": [
    "rand_frt_Pred_test_final = rand_frt_clf.predict(X=x_tstdst_final)\n",
    "rand_frt_Pred_test_final"
   ]
  },
  {
   "cell_type": "markdown",
   "id": "aa582f8e",
   "metadata": {
    "papermill": {
     "duration": 0.020995,
     "end_time": "2022-08-15T18:48:25.910607",
     "exception": false,
     "start_time": "2022-08-15T18:48:25.889612",
     "status": "completed"
    },
    "tags": []
   },
   "source": [
    "## XGBOOST Model"
   ]
  },
  {
   "cell_type": "code",
   "execution_count": 53,
   "id": "1ac9260a",
   "metadata": {
    "execution": {
     "iopub.execute_input": "2022-08-15T18:48:25.954154Z",
     "iopub.status.busy": "2022-08-15T18:48:25.953701Z",
     "iopub.status.idle": "2022-08-15T18:48:26.255105Z",
     "shell.execute_reply": "2022-08-15T18:48:26.254041Z"
    },
    "papermill": {
     "duration": 0.326813,
     "end_time": "2022-08-15T18:48:26.258115",
     "exception": false,
     "start_time": "2022-08-15T18:48:25.931302",
     "status": "completed"
    },
    "tags": []
   },
   "outputs": [
    {
     "name": "stderr",
     "output_type": "stream",
     "text": [
      "C:\\Users\\gimep\\anaconda3\\lib\\site-packages\\xgboost\\core.py:158: UserWarning: [11:56:37] WARNING: C:\\buildkite-agent\\builds\\buildkite-windows-cpu-autoscaling-group-i-0015a694724fa8361-1\\xgboost\\xgboost-ci-windows\\src\\learner.cc:740: \n",
      "Parameters: { \"use_label_encoder\" } are not used.\n",
      "\n",
      "  warnings.warn(smsg, UserWarning)\n"
     ]
    },
    {
     "data": {
      "text/html": [
       "<style>#sk-container-id-2 {color: black;background-color: white;}#sk-container-id-2 pre{padding: 0;}#sk-container-id-2 div.sk-toggleable {background-color: white;}#sk-container-id-2 label.sk-toggleable__label {cursor: pointer;display: block;width: 100%;margin-bottom: 0;padding: 0.3em;box-sizing: border-box;text-align: center;}#sk-container-id-2 label.sk-toggleable__label-arrow:before {content: \"▸\";float: left;margin-right: 0.25em;color: #696969;}#sk-container-id-2 label.sk-toggleable__label-arrow:hover:before {color: black;}#sk-container-id-2 div.sk-estimator:hover label.sk-toggleable__label-arrow:before {color: black;}#sk-container-id-2 div.sk-toggleable__content {max-height: 0;max-width: 0;overflow: hidden;text-align: left;background-color: #f0f8ff;}#sk-container-id-2 div.sk-toggleable__content pre {margin: 0.2em;color: black;border-radius: 0.25em;background-color: #f0f8ff;}#sk-container-id-2 input.sk-toggleable__control:checked~div.sk-toggleable__content {max-height: 200px;max-width: 100%;overflow: auto;}#sk-container-id-2 input.sk-toggleable__control:checked~label.sk-toggleable__label-arrow:before {content: \"▾\";}#sk-container-id-2 div.sk-estimator input.sk-toggleable__control:checked~label.sk-toggleable__label {background-color: #d4ebff;}#sk-container-id-2 div.sk-label input.sk-toggleable__control:checked~label.sk-toggleable__label {background-color: #d4ebff;}#sk-container-id-2 input.sk-hidden--visually {border: 0;clip: rect(1px 1px 1px 1px);clip: rect(1px, 1px, 1px, 1px);height: 1px;margin: -1px;overflow: hidden;padding: 0;position: absolute;width: 1px;}#sk-container-id-2 div.sk-estimator {font-family: monospace;background-color: #f0f8ff;border: 1px dotted black;border-radius: 0.25em;box-sizing: border-box;margin-bottom: 0.5em;}#sk-container-id-2 div.sk-estimator:hover {background-color: #d4ebff;}#sk-container-id-2 div.sk-parallel-item::after {content: \"\";width: 100%;border-bottom: 1px solid gray;flex-grow: 1;}#sk-container-id-2 div.sk-label:hover label.sk-toggleable__label {background-color: #d4ebff;}#sk-container-id-2 div.sk-serial::before {content: \"\";position: absolute;border-left: 1px solid gray;box-sizing: border-box;top: 0;bottom: 0;left: 50%;z-index: 0;}#sk-container-id-2 div.sk-serial {display: flex;flex-direction: column;align-items: center;background-color: white;padding-right: 0.2em;padding-left: 0.2em;position: relative;}#sk-container-id-2 div.sk-item {position: relative;z-index: 1;}#sk-container-id-2 div.sk-parallel {display: flex;align-items: stretch;justify-content: center;background-color: white;position: relative;}#sk-container-id-2 div.sk-item::before, #sk-container-id-2 div.sk-parallel-item::before {content: \"\";position: absolute;border-left: 1px solid gray;box-sizing: border-box;top: 0;bottom: 0;left: 50%;z-index: -1;}#sk-container-id-2 div.sk-parallel-item {display: flex;flex-direction: column;z-index: 1;position: relative;background-color: white;}#sk-container-id-2 div.sk-parallel-item:first-child::after {align-self: flex-end;width: 50%;}#sk-container-id-2 div.sk-parallel-item:last-child::after {align-self: flex-start;width: 50%;}#sk-container-id-2 div.sk-parallel-item:only-child::after {width: 0;}#sk-container-id-2 div.sk-dashed-wrapped {border: 1px dashed gray;margin: 0 0.4em 0.5em 0.4em;box-sizing: border-box;padding-bottom: 0.4em;background-color: white;}#sk-container-id-2 div.sk-label label {font-family: monospace;font-weight: bold;display: inline-block;line-height: 1.2em;}#sk-container-id-2 div.sk-label-container {text-align: center;}#sk-container-id-2 div.sk-container {/* jupyter's `normalize.less` sets `[hidden] { display: none; }` but bootstrap.min.css set `[hidden] { display: none !important; }` so we also need the `!important` here to be able to override the default hidden behavior on the sphinx rendered scikit-learn.org. See: https://github.com/scikit-learn/scikit-learn/issues/21755 */display: inline-block !important;position: relative;}#sk-container-id-2 div.sk-text-repr-fallback {display: none;}</style><div id=\"sk-container-id-2\" class=\"sk-top-container\"><div class=\"sk-text-repr-fallback\"><pre>XGBClassifier(base_score=None, booster=None, callbacks=None,\n",
       "              colsample_bylevel=None, colsample_bynode=None,\n",
       "              colsample_bytree=None, device=None, early_stopping_rounds=None,\n",
       "              enable_categorical=False, eval_metric=&#x27;logloss&#x27;,\n",
       "              feature_types=None, gamma=None, grow_policy=None,\n",
       "              importance_type=None, interaction_constraints=None,\n",
       "              learning_rate=0.0238, max_bin=None, max_cat_threshold=None,\n",
       "              max_cat_to_onehot=None, max_delta_step=None, max_depth=9,\n",
       "              max_leaves=None, min_child_weight=None, missing=nan,\n",
       "              monotone_constraints=None, multi_strategy=None, n_estimators=50,\n",
       "              n_jobs=None, num_parallel_tree=None, random_state=None, ...)</pre><b>In a Jupyter environment, please rerun this cell to show the HTML representation or trust the notebook. <br />On GitHub, the HTML representation is unable to render, please try loading this page with nbviewer.org.</b></div><div class=\"sk-container\" hidden><div class=\"sk-item\"><div class=\"sk-estimator sk-toggleable\"><input class=\"sk-toggleable__control sk-hidden--visually\" id=\"sk-estimator-id-2\" type=\"checkbox\" checked><label for=\"sk-estimator-id-2\" class=\"sk-toggleable__label sk-toggleable__label-arrow\">XGBClassifier</label><div class=\"sk-toggleable__content\"><pre>XGBClassifier(base_score=None, booster=None, callbacks=None,\n",
       "              colsample_bylevel=None, colsample_bynode=None,\n",
       "              colsample_bytree=None, device=None, early_stopping_rounds=None,\n",
       "              enable_categorical=False, eval_metric=&#x27;logloss&#x27;,\n",
       "              feature_types=None, gamma=None, grow_policy=None,\n",
       "              importance_type=None, interaction_constraints=None,\n",
       "              learning_rate=0.0238, max_bin=None, max_cat_threshold=None,\n",
       "              max_cat_to_onehot=None, max_delta_step=None, max_depth=9,\n",
       "              max_leaves=None, min_child_weight=None, missing=nan,\n",
       "              monotone_constraints=None, multi_strategy=None, n_estimators=50,\n",
       "              n_jobs=None, num_parallel_tree=None, random_state=None, ...)</pre></div></div></div></div></div>"
      ],
      "text/plain": [
       "XGBClassifier(base_score=None, booster=None, callbacks=None,\n",
       "              colsample_bylevel=None, colsample_bynode=None,\n",
       "              colsample_bytree=None, device=None, early_stopping_rounds=None,\n",
       "              enable_categorical=False, eval_metric='logloss',\n",
       "              feature_types=None, gamma=None, grow_policy=None,\n",
       "              importance_type=None, interaction_constraints=None,\n",
       "              learning_rate=0.0238, max_bin=None, max_cat_threshold=None,\n",
       "              max_cat_to_onehot=None, max_delta_step=None, max_depth=9,\n",
       "              max_leaves=None, min_child_weight=None, missing=nan,\n",
       "              monotone_constraints=None, multi_strategy=None, n_estimators=50,\n",
       "              n_jobs=None, num_parallel_tree=None, random_state=None, ...)"
      ]
     },
     "execution_count": 53,
     "metadata": {},
     "output_type": "execute_result"
    }
   ],
   "source": [
    "xgbc =xgb.XGBClassifier(use_label_encoder=False, n_estimators=50, max_depth=9, objective='binary:logistic', \n",
    "                        eval_metric = \"logloss\", learning_rate=0.0238)\n",
    "xgbc.fit(x_train_final, y_train)"
   ]
  },
  {
   "cell_type": "code",
   "execution_count": 54,
   "id": "edc16c59",
   "metadata": {
    "execution": {
     "iopub.execute_input": "2022-08-15T18:48:26.303419Z",
     "iopub.status.busy": "2022-08-15T18:48:26.302465Z",
     "iopub.status.idle": "2022-08-15T18:48:27.612928Z",
     "shell.execute_reply": "2022-08-15T18:48:27.611873Z"
    },
    "papermill": {
     "duration": 1.337121,
     "end_time": "2022-08-15T18:48:27.616751",
     "exception": false,
     "start_time": "2022-08-15T18:48:26.279630",
     "status": "completed"
    },
    "tags": []
   },
   "outputs": [
    {
     "name": "stderr",
     "output_type": "stream",
     "text": [
      "C:\\Users\\gimep\\anaconda3\\lib\\site-packages\\xgboost\\core.py:158: UserWarning: [11:56:37] WARNING: C:\\buildkite-agent\\builds\\buildkite-windows-cpu-autoscaling-group-i-0015a694724fa8361-1\\xgboost\\xgboost-ci-windows\\src\\learner.cc:740: \n",
      "Parameters: { \"use_label_encoder\" } are not used.\n",
      "\n",
      "  warnings.warn(smsg, UserWarning)\n",
      "C:\\Users\\gimep\\anaconda3\\lib\\site-packages\\xgboost\\core.py:158: UserWarning: [11:56:37] WARNING: C:\\buildkite-agent\\builds\\buildkite-windows-cpu-autoscaling-group-i-0015a694724fa8361-1\\xgboost\\xgboost-ci-windows\\src\\learner.cc:740: \n",
      "Parameters: { \"use_label_encoder\" } are not used.\n",
      "\n",
      "  warnings.warn(smsg, UserWarning)\n",
      "C:\\Users\\gimep\\anaconda3\\lib\\site-packages\\xgboost\\core.py:158: UserWarning: [11:56:37] WARNING: C:\\buildkite-agent\\builds\\buildkite-windows-cpu-autoscaling-group-i-0015a694724fa8361-1\\xgboost\\xgboost-ci-windows\\src\\learner.cc:740: \n",
      "Parameters: { \"use_label_encoder\" } are not used.\n",
      "\n",
      "  warnings.warn(smsg, UserWarning)\n",
      "C:\\Users\\gimep\\anaconda3\\lib\\site-packages\\xgboost\\core.py:158: UserWarning: [11:56:37] WARNING: C:\\buildkite-agent\\builds\\buildkite-windows-cpu-autoscaling-group-i-0015a694724fa8361-1\\xgboost\\xgboost-ci-windows\\src\\learner.cc:740: \n",
      "Parameters: { \"use_label_encoder\" } are not used.\n",
      "\n",
      "  warnings.warn(smsg, UserWarning)\n",
      "C:\\Users\\gimep\\anaconda3\\lib\\site-packages\\xgboost\\core.py:158: UserWarning: [11:56:37] WARNING: C:\\buildkite-agent\\builds\\buildkite-windows-cpu-autoscaling-group-i-0015a694724fa8361-1\\xgboost\\xgboost-ci-windows\\src\\learner.cc:740: \n",
      "Parameters: { \"use_label_encoder\" } are not used.\n",
      "\n",
      "  warnings.warn(smsg, UserWarning)\n"
     ]
    },
    {
     "data": {
      "text/plain": [
       "array([0.84210526, 0.80921053, 0.75496689, 0.82781457, 0.83443709])"
      ]
     },
     "execution_count": 54,
     "metadata": {},
     "output_type": "execute_result"
    }
   ],
   "source": [
    "xgbc_acc_scores = cross_val_score(estimator=xgbc, X=x_train_final, y=y_train, cv=5, scoring='accuracy')\n",
    "xgbc_acc_scores"
   ]
  },
  {
   "cell_type": "code",
   "execution_count": 55,
   "id": "4893ca5a",
   "metadata": {
    "execution": {
     "iopub.execute_input": "2022-08-15T18:48:27.681021Z",
     "iopub.status.busy": "2022-08-15T18:48:27.680472Z",
     "iopub.status.idle": "2022-08-15T18:48:27.686814Z",
     "shell.execute_reply": "2022-08-15T18:48:27.685864Z"
    },
    "papermill": {
     "duration": 0.039944,
     "end_time": "2022-08-15T18:48:27.692149",
     "exception": false,
     "start_time": "2022-08-15T18:48:27.652205",
     "status": "completed"
    },
    "tags": []
   },
   "outputs": [
    {
     "name": "stdout",
     "output_type": "stream",
     "text": [
      "0.8137068665040083\n",
      "0.03132360272945305\n"
     ]
    }
   ],
   "source": [
    "print(xgbc_acc_scores.mean())\n",
    "print(xgbc_acc_scores.std())"
   ]
  },
  {
   "cell_type": "code",
   "execution_count": 56,
   "id": "c6371b8f",
   "metadata": {
    "execution": {
     "iopub.execute_input": "2022-08-15T18:48:27.748689Z",
     "iopub.status.busy": "2022-08-15T18:48:27.747771Z",
     "iopub.status.idle": "2022-08-15T18:48:29.044752Z",
     "shell.execute_reply": "2022-08-15T18:48:29.043666Z"
    },
    "papermill": {
     "duration": 1.325445,
     "end_time": "2022-08-15T18:48:29.048054",
     "exception": false,
     "start_time": "2022-08-15T18:48:27.722609",
     "status": "completed"
    },
    "tags": []
   },
   "outputs": [
    {
     "name": "stderr",
     "output_type": "stream",
     "text": [
      "C:\\Users\\gimep\\anaconda3\\lib\\site-packages\\xgboost\\core.py:158: UserWarning: [11:56:37] WARNING: C:\\buildkite-agent\\builds\\buildkite-windows-cpu-autoscaling-group-i-0015a694724fa8361-1\\xgboost\\xgboost-ci-windows\\src\\learner.cc:740: \n",
      "Parameters: { \"use_label_encoder\" } are not used.\n",
      "\n",
      "  warnings.warn(smsg, UserWarning)\n",
      "C:\\Users\\gimep\\anaconda3\\lib\\site-packages\\xgboost\\core.py:158: UserWarning: [11:56:38] WARNING: C:\\buildkite-agent\\builds\\buildkite-windows-cpu-autoscaling-group-i-0015a694724fa8361-1\\xgboost\\xgboost-ci-windows\\src\\learner.cc:740: \n",
      "Parameters: { \"use_label_encoder\" } are not used.\n",
      "\n",
      "  warnings.warn(smsg, UserWarning)\n"
     ]
    },
    {
     "data": {
      "text/plain": [
       "array([1, 0, 1, 0, 0, 1, 0, 0, 0, 1, 1, 0, 0, 0, 0, 1, 0, 0, 1, 0, 1, 0,\n",
       "       1, 0, 1, 1, 1, 0, 1, 1, 0, 1, 1, 0, 1, 0, 0, 0, 0, 0, 0, 0, 1, 0,\n",
       "       0, 1, 0, 0, 0, 0, 0, 1, 0, 1, 0, 1, 0, 0, 1, 0, 0, 0, 0, 0, 1, 0,\n",
       "       1, 1, 0, 0, 0, 0, 0, 1, 0, 0, 0, 1, 0, 0, 0, 0, 0, 0, 0, 0, 0, 0,\n",
       "       0, 0, 0, 0, 0, 0, 0, 1, 0, 0, 1, 0, 0, 0, 1, 0, 1, 0, 0, 0, 1, 0,\n",
       "       0, 0, 0, 0, 1, 0, 0, 0, 0, 0, 0, 1, 0, 0, 1, 0, 0, 0, 0, 0, 0, 1,\n",
       "       0, 1, 1, 1, 1, 0, 0, 1, 0, 1, 1, 1, 0, 0, 1, 0, 0, 1, 0, 1, 0, 0,\n",
       "       0, 1, 0, 1, 0, 0, 0, 1, 0, 0, 0, 1, 1, 0, 0, 1, 1, 0, 0, 0, 0, 0,\n",
       "       0, 0, 0, 0, 0, 0, 0, 0, 0, 1, 1, 0, 1, 0, 0, 0, 0, 0, 0, 1, 0, 0,\n",
       "       1, 0, 1, 1, 0, 1, 0, 0, 0, 0, 0, 0, 0, 0, 0, 1, 0, 0, 0, 0, 0, 0,\n",
       "       0, 1, 0, 0, 0, 1, 1, 0, 1, 0, 0, 0, 0, 0, 0, 0, 0, 0, 0, 1, 0, 0,\n",
       "       0, 1, 0, 0, 1, 0, 0, 1, 1, 0, 0, 1, 0, 0, 1, 0, 0, 1, 1, 0, 0, 0,\n",
       "       0, 0, 1, 0, 1, 0, 0, 1, 0, 0, 0, 0, 0, 1, 0, 0, 1, 1, 0, 0, 0, 0,\n",
       "       1, 0, 0, 1, 0, 0, 1, 1, 1, 0, 0, 1, 1, 0, 0, 1, 0, 0, 1, 0, 0, 0,\n",
       "       0, 0, 0, 1, 0, 0, 0, 0, 0, 0, 0, 0, 1, 0, 1, 0, 0, 0, 1, 0, 1, 0,\n",
       "       0, 0, 0, 0, 0, 0, 1, 0, 0, 0, 0, 0, 0, 1, 1, 1, 0, 0, 0, 1, 0, 1,\n",
       "       0, 1, 0, 0, 0, 0, 0, 0, 0, 1, 0, 1, 0, 0, 0, 0, 1, 0, 1, 0, 0, 0,\n",
       "       1, 1, 1, 0, 0, 0, 1, 1, 0, 0, 0, 1, 1, 0, 0, 0, 1, 0, 0, 1, 0, 0,\n",
       "       0, 0, 0, 0, 0, 0, 0, 0, 0, 0, 0, 0, 0, 1, 0, 0, 0, 0, 1, 0, 0, 0,\n",
       "       0, 0, 1, 1, 0, 1, 0, 0, 0, 0, 0, 1, 1, 1, 0, 0, 0, 0, 0, 0, 0, 0,\n",
       "       0, 0, 1, 0, 1, 0, 0, 0, 0, 0, 0, 0, 0, 0, 0, 0, 0, 1, 1, 0, 1, 0,\n",
       "       1, 1, 1, 1, 0, 0, 0, 0, 1, 0, 0, 0, 0, 0, 1, 0, 0, 0, 0, 1, 0, 0,\n",
       "       1, 1, 1, 0, 0, 0, 0, 0, 0, 0, 1, 0, 1, 1, 0, 1, 1, 0, 1, 1, 0, 0,\n",
       "       0, 1, 0, 0, 0, 1, 0, 0, 0, 0, 0, 0, 1, 0, 0, 1, 1, 0, 0, 0, 0, 0,\n",
       "       1, 0, 1, 1, 0, 1, 0, 0, 1, 0, 0, 1, 0, 1, 0, 0, 1, 1, 1, 1, 1, 1,\n",
       "       0, 1, 0, 0, 0, 0, 1, 0, 0, 0, 0, 0, 0, 0, 1, 0, 0, 0, 0, 0, 0, 0,\n",
       "       0, 0, 0, 0, 1, 0, 1, 0, 0, 0, 0, 0, 0, 1, 0, 0, 1, 0, 0, 0, 1, 0,\n",
       "       0, 0, 0, 0, 0, 1, 0, 0, 0, 0, 0, 1, 1, 1, 0, 0, 0, 1, 0, 0, 1, 0,\n",
       "       1, 1, 1, 0, 1, 0, 0, 1, 0, 0, 0, 0, 1, 0, 0, 1, 0, 1, 0, 0, 0, 0,\n",
       "       0, 1, 1, 0, 0, 1, 0, 0, 1, 0, 0, 0, 0, 0, 0, 1, 1, 1, 0, 1, 1, 1,\n",
       "       0, 0, 0, 0, 0, 1, 0, 0, 0, 1, 0, 1, 1, 1, 1, 1, 0, 1, 1, 0, 0, 1,\n",
       "       0, 0, 1, 0, 1, 0, 0, 1, 0, 0, 0, 1, 0, 0, 0, 0, 1, 0, 1, 1, 0, 1,\n",
       "       0, 1, 0, 0, 1, 0, 0, 0, 1, 0, 1, 0, 0, 0, 1, 0, 1, 1, 1, 1, 0, 0,\n",
       "       1, 0, 0, 1, 1, 0, 0, 0, 0, 0, 1, 0, 0, 0, 1, 0, 0, 0, 0, 0, 0, 1,\n",
       "       1, 0, 0, 1, 1, 1, 0, 0, 0])"
      ]
     },
     "execution_count": 56,
     "metadata": {},
     "output_type": "execute_result"
    }
   ],
   "source": [
    "xgbc_Pred = cross_val_predict(estimator=xgbc, X=x_train_final, y=y_train, cv=5)\n",
    "xgbc_Pred"
   ]
  },
  {
   "cell_type": "code",
   "execution_count": 57,
   "id": "7f530e4f",
   "metadata": {
    "execution": {
     "iopub.execute_input": "2022-08-15T18:48:29.094886Z",
     "iopub.status.busy": "2022-08-15T18:48:29.093737Z",
     "iopub.status.idle": "2022-08-15T18:48:29.102801Z",
     "shell.execute_reply": "2022-08-15T18:48:29.101726Z"
    },
    "papermill": {
     "duration": 0.034217,
     "end_time": "2022-08-15T18:48:29.105254",
     "exception": false,
     "start_time": "2022-08-15T18:48:29.071037",
     "status": "completed"
    },
    "tags": []
   },
   "outputs": [
    {
     "data": {
      "text/plain": [
       "array([[420,  38],\n",
       "       [103, 196]], dtype=int64)"
      ]
     },
     "execution_count": 57,
     "metadata": {},
     "output_type": "execute_result"
    }
   ],
   "source": [
    "confmx_clf = confusion_matrix(y_train, xgbc_Pred)\n",
    "confmx_clf"
   ]
  },
  {
   "cell_type": "code",
   "execution_count": 58,
   "id": "5c8c7cb9",
   "metadata": {
    "execution": {
     "iopub.execute_input": "2022-08-15T18:48:29.151102Z",
     "iopub.status.busy": "2022-08-15T18:48:29.150247Z",
     "iopub.status.idle": "2022-08-15T18:48:29.409032Z",
     "shell.execute_reply": "2022-08-15T18:48:29.407807Z"
    },
    "papermill": {
     "duration": 0.284497,
     "end_time": "2022-08-15T18:48:29.411668",
     "exception": false,
     "start_time": "2022-08-15T18:48:29.127171",
     "status": "completed"
    },
    "tags": []
   },
   "outputs": [
    {
     "data": {
      "image/png": "[encoded data removed]",
      "text/plain": [
       "<Figure size 1000x600 with 2 Axes>"
      ]
     },
     "metadata": {},
     "output_type": "display_data"
    }
   ],
   "source": [
    "plt.figure(figsize=(10,6))\n",
    "sns.heatmap(confmx_clf, annot=True, cmap='Blues')\n",
    "plt.show()"
   ]
  },
  {
   "cell_type": "code",
   "execution_count": 59,
   "id": "8836d215",
   "metadata": {
    "execution": {
     "iopub.execute_input": "2022-08-15T18:48:29.457769Z",
     "iopub.status.busy": "2022-08-15T18:48:29.456993Z",
     "iopub.status.idle": "2022-08-15T18:48:29.478022Z",
     "shell.execute_reply": "2022-08-15T18:48:29.477057Z"
    },
    "papermill": {
     "duration": 0.047894,
     "end_time": "2022-08-15T18:48:29.481108",
     "exception": false,
     "start_time": "2022-08-15T18:48:29.433214",
     "status": "completed"
    },
    "tags": []
   },
   "outputs": [
    {
     "data": {
      "text/plain": [
       "array([1, 0, 0, 0, 0, 0, 1, 1, 0, 0, 0, 0, 1, 0, 1, 1, 1, 0, 0, 0, 0, 1,\n",
       "       0, 0, 0, 0, 0, 1, 0, 0, 0, 1, 0, 0, 0, 1, 0, 0, 1, 0, 1, 0, 0, 0,\n",
       "       0, 0, 1, 1, 0, 1, 1, 0, 0, 0, 0, 0, 0, 0, 0, 0, 1, 1, 1, 1, 0, 0,\n",
       "       0, 0, 0, 1, 1, 0, 1, 0, 0, 0, 0, 0, 1, 1, 1, 0, 0, 0, 0, 0, 1, 0,\n",
       "       0, 0, 0, 0, 0, 0, 0, 0, 1, 1, 0, 1, 0, 0, 1, 1, 0, 1, 0, 0, 0, 1,\n",
       "       1, 0, 1, 0, 0, 0, 0, 0, 0, 1, 0, 0, 1, 0, 0, 0, 0, 0, 1, 0, 1, 0,\n",
       "       0, 1])"
      ]
     },
     "execution_count": 59,
     "metadata": {},
     "output_type": "execute_result"
    }
   ],
   "source": [
    "xgbc_Pred_test = xgbc.predict(X=x_test_final)\n",
    "xgbc_Pred_test"
   ]
  },
  {
   "cell_type": "code",
   "execution_count": 60,
   "id": "8a993fd5",
   "metadata": {
    "execution": {
     "iopub.execute_input": "2022-08-15T18:48:29.527335Z",
     "iopub.status.busy": "2022-08-15T18:48:29.526873Z",
     "iopub.status.idle": "2022-08-15T18:48:29.536011Z",
     "shell.execute_reply": "2022-08-15T18:48:29.534853Z"
    },
    "papermill": {
     "duration": 0.034973,
     "end_time": "2022-08-15T18:48:29.538645",
     "exception": false,
     "start_time": "2022-08-15T18:48:29.503672",
     "status": "completed"
    },
    "tags": []
   },
   "outputs": [
    {
     "data": {
      "text/plain": [
       "0.8731343283582089"
      ]
     },
     "execution_count": 60,
     "metadata": {},
     "output_type": "execute_result"
    }
   ],
   "source": [
    "accuracy_score(y_test, xgbc_Pred_test)"
   ]
  },
  {
   "cell_type": "code",
   "execution_count": 61,
   "id": "a780447d",
   "metadata": {
    "execution": {
     "iopub.execute_input": "2022-08-15T18:48:29.584620Z",
     "iopub.status.busy": "2022-08-15T18:48:29.584203Z",
     "iopub.status.idle": "2022-08-15T18:48:29.593304Z",
     "shell.execute_reply": "2022-08-15T18:48:29.592144Z"
    },
    "papermill": {
     "duration": 0.034551,
     "end_time": "2022-08-15T18:48:29.595584",
     "exception": false,
     "start_time": "2022-08-15T18:48:29.561033",
     "status": "completed"
    },
    "tags": []
   },
   "outputs": [
    {
     "data": {
      "text/plain": [
       "array([[83,  8],\n",
       "       [ 9, 34]], dtype=int64)"
      ]
     },
     "execution_count": 61,
     "metadata": {},
     "output_type": "execute_result"
    }
   ],
   "source": [
    "confmx_xgbc_test = confusion_matrix(y_test, xgbc_Pred_test)\n",
    "confmx_xgbc_test"
   ]
  },
  {
   "cell_type": "code",
   "execution_count": 62,
   "id": "a5737499",
   "metadata": {
    "execution": {
     "iopub.execute_input": "2022-08-15T18:48:29.643759Z",
     "iopub.status.busy": "2022-08-15T18:48:29.642526Z",
     "iopub.status.idle": "2022-08-15T18:48:30.066522Z",
     "shell.execute_reply": "2022-08-15T18:48:30.064589Z"
    },
    "papermill": {
     "duration": 0.451117,
     "end_time": "2022-08-15T18:48:30.069843",
     "exception": false,
     "start_time": "2022-08-15T18:48:29.618726",
     "status": "completed"
    },
    "tags": []
   },
   "outputs": [
    {
     "data": {
      "image/png": "[encoded data removed]",
      "text/plain": [
       "<Figure size 1000x600 with 2 Axes>"
      ]
     },
     "metadata": {},
     "output_type": "display_data"
    }
   ],
   "source": [
    "plt.figure(figsize=(10,6))\n",
    "sns.heatmap(confmx_xgbc_test, annot=True, cmap='Blues')\n",
    "plt.show()"
   ]
  },
  {
   "cell_type": "code",
   "execution_count": 64,
   "id": "09ad7352",
   "metadata": {
    "execution": {
     "iopub.execute_input": "2022-08-15T18:48:30.116476Z",
     "iopub.status.busy": "2022-08-15T18:48:30.116064Z",
     "iopub.status.idle": "2022-08-15T18:48:30.138813Z",
     "shell.execute_reply": "2022-08-15T18:48:30.133498Z"
    },
    "papermill": {
     "duration": 0.049608,
     "end_time": "2022-08-15T18:48:30.141828",
     "exception": false,
     "start_time": "2022-08-15T18:48:30.092220",
     "status": "completed"
    },
    "tags": []
   },
   "outputs": [],
   "source": [
    "xgbc_Pred_test_final = xgbc.predict(X=x_tstdst_final)\n",
    "xgbc_Pred_test_final\n",
    "\n",
    "output = pd.DataFrame({'PassengerId': PassengerId, 'Survived': xgbc_Pred_test_final})\n",
    "output.to_csv('submission.csv', index=False)"
   ]
  },
  {
   "cell_type": "code",
   "execution_count": null,
   "id": "aae9643a",
   "metadata": {},
   "outputs": [],
   "source": []
  }
 ],
 "metadata": {
  "kernelspec": {
   "display_name": "Python 3 (ipykernel)",
   "language": "python",
   "name": "python3"
  },
  "language_info": {
   "codemirror_mode": {
    "name": "ipython",
    "version": 3
   },
   "file_extension": ".py",
   "mimetype": "text/x-python",
   "name": "python",
   "nbconvert_exporter": "python",
   "pygments_lexer": "ipython3",
   "version": "3.9.7"
  },
  "papermill": {
   "default_parameters": {},
   "duration": 24.48934,
   "end_time": "2022-08-15T18:48:30.986988",
   "environment_variables": {},
   "exception": null,
   "input_path": "__notebook__.ipynb",
   "output_path": "__notebook__.ipynb",
   "parameters": {},
   "start_time": "2022-08-15T18:48:06.497648",
   "version": "2.3.4"
  }
 },
 "nbformat": 4,
 "nbformat_minor": 5
}
